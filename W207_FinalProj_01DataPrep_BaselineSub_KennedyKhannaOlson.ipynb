{
 "cells": [
  {
   "cell_type": "markdown",
   "metadata": {},
   "source": [
    "# W207, Final Project\n",
    "Spring, 2018\n",
    "\n",
    "Team:  Cameron Kennedy, Gaurav Khanna, Aaron Olson\n",
    "\n",
    "## Data Preparation / Feature Extraction Notebook\n",
    "Python Notebook 1 of 2\n",
    "\n",
    "This notebook loads and pre-processes the data.  The other notebook (2 of 2) runs our ML models."
   ]
  },
  {
   "cell_type": "markdown",
   "metadata": {},
   "source": [
    "# Introduction\n",
    "This analysis seeks to predict user churn in a music sharing service.\n",
    "\n",
    "We will write a more complete description and analysis for submission of our final project.\n",
    "\n",
    "We worked on 2 major data tables/frames (User logs & Transactions) independently for preperation and then brought them together before analysis"
   ]
  },
  {
   "cell_type": "code",
   "execution_count": 1,
   "metadata": {
    "collapsed": true
   },
   "outputs": [],
   "source": [
    "#Import Required Libraries\n",
    "import pandas as pd\n",
    "import numpy as np\n",
    "import matplotlib.pyplot as plt\n",
    "%matplotlib inline"
   ]
  },
  {
   "cell_type": "markdown",
   "metadata": {},
   "source": [
    "Loading the data indexing with the primary key (MSNO: String like/Object, represents the user)"
   ]
  },
  {
   "cell_type": "code",
   "execution_count": 2,
   "metadata": {
    "collapsed": true
   },
   "outputs": [],
   "source": [
    "#Load the data\n",
    "members = pd.read_csv('members_filtered.csv')\n",
    "transactions = pd.read_csv('transactions_filtered.csv')\n",
    "user_logs = pd.read_csv('user_logs_filtered.csv')\n",
    "labels = pd.read_csv('labels_filtered.csv')\n",
    "\n",
    "#Set indices\n",
    "members.set_index('msno', inplace = True)\n",
    "labels.set_index('msno', inplace = True)\n",
    "\n",
    "#user_logs.head()"
   ]
  },
  {
   "cell_type": "markdown",
   "metadata": {},
   "source": [
    "Getting some info on the userful data"
   ]
  },
  {
   "cell_type": "code",
   "execution_count": 3,
   "metadata": {},
   "outputs": [
    {
     "name": "stdout",
     "output_type": "stream",
     "text": [
      "Transactions: \n",
      "\n",
      "<class 'pandas.core.frame.DataFrame'>\n",
      "RangeIndex: 282160 entries, 0 to 282159\n",
      "Data columns (total 9 columns):\n",
      "msno                      282160 non-null object\n",
      "payment_method_id         282160 non-null int64\n",
      "payment_plan_days         282160 non-null int64\n",
      "plan_list_price           282160 non-null int64\n",
      "actual_amount_paid        282160 non-null int64\n",
      "is_auto_renew             282160 non-null int64\n",
      "transaction_date          282160 non-null int64\n",
      "membership_expire_date    282160 non-null int64\n",
      "is_cancel                 282160 non-null int64\n",
      "dtypes: int64(8), object(1)\n",
      "memory usage: 19.4+ MB\n",
      "User Logs: \n",
      "\n",
      "<class 'pandas.core.frame.DataFrame'>\n",
      "RangeIndex: 4883573 entries, 0 to 4883572\n",
      "Data columns (total 9 columns):\n",
      "msno          object\n",
      "date          int64\n",
      "num_25        int64\n",
      "num_50        int64\n",
      "num_75        int64\n",
      "num_985       int64\n",
      "num_100       int64\n",
      "num_unq       int64\n",
      "total_secs    float64\n",
      "dtypes: float64(1), int64(7), object(1)\n",
      "memory usage: 335.3+ MB\n"
     ]
    }
   ],
   "source": [
    "\n",
    "print('Transactions: \\n')\n",
    "transactions.info()\n",
    "print('User Logs: \\n')\n",
    "user_logs.info()"
   ]
  },
  {
   "cell_type": "markdown",
   "metadata": {},
   "source": [
    "Helper routine to format the date for visualization. Not conducive for analysis though"
   ]
  },
  {
   "cell_type": "code",
   "execution_count": 4,
   "metadata": {
    "collapsed": true
   },
   "outputs": [],
   "source": [
    "def pd_to_date(df_col):\n",
    "    df_col = pd.to_datetime(df_col, format = '%Y%m%d')\n",
    "    return df_col\n",
    "\n",
    "#Convert to date\n",
    "user_logs['date'] = pd_to_date(user_logs['date'])\n",
    "#user_logs.head()"
   ]
  },
  {
   "cell_type": "markdown",
   "metadata": {},
   "source": [
    "# User Logs Data: Preparation and Feature Extraction"
   ]
  },
  {
   "cell_type": "code",
   "execution_count": null,
   "metadata": {
    "collapsed": true
   },
   "outputs": [],
   "source": [
    "#Create our groupby user object \n",
    "user_logs_gb = user_logs.groupby(['msno'], sort=False)"
   ]
  },
  {
   "cell_type": "markdown",
   "metadata": {},
   "source": [
    "The list of features \n",
    "\n",
    "* User most recent date (max date)\n",
    "* User first date (min date)\n",
    "* How long they've been listening:  Min vs. max date by user\n",
    "* Matrix of all the following (cartesian product)\n",
    "    * Total X=(seconds, 100, 985, 75, 50, 25, unique), avg per day of X, maybe median per day of X\n",
    "    * Last day, last 7 days, last 30 days, last 90, 180, 365, total (note last day is relative to user)\n",
    " "
   ]
  },
  {
   "cell_type": "code",
   "execution_count": null,
   "metadata": {
    "collapsed": true
   },
   "outputs": [],
   "source": [
    "#This cell is slow\n",
    "\n",
    "#Append max date to every row in main table\n",
    "user_logs['max_date'] = user_logs_gb['date'].transform('max')\n",
    "user_logs['days_before_max_date'] = (user_logs['max_date'] - user_logs['date']).apply(lambda x: x.days)\n",
    "    #The .apply(lambda...  just converts it from datetime to an integer, for easier comparisons later.\n",
    "\n",
    "#Generate user's first date, last date, and tenure\n",
    "#Also, the user_logs_features table will be the primary table to return from the transactions table\n",
    "user_logs_features = (user_logs_gb\n",
    "    .agg({'date':['max', 'min', lambda x: (max(x) - min(x)).days]})  #.days converts to int\n",
    "    .rename(columns={'max': 'max_date', 'min': 'min_date','<lambda>':'listening_tenure'})\n",
    "                      )\n",
    "#Add a 3rd level, used for joining data later\n",
    "user_logs_features = pd.concat([user_logs_features], axis=1, keys=['date_features'])"
   ]
  },
  {
   "cell_type": "code",
   "execution_count": null,
   "metadata": {},
   "outputs": [],
   "source": [
    "user_logs_features.head()"
   ]
  },
  {
   "cell_type": "code",
   "execution_count": null,
   "metadata": {
    "collapsed": true
   },
   "outputs": [],
   "source": [
    "#Create Features:\n",
    "    # Total X=(seconds, 100, 985, 75, 50, 25, unique), avg per day of X, maybe median per day of X\n",
    "    # Last day, last 7 days, last 30 days, last 90, 180, 365, total (note last day is relative to user)\n",
    "    \n",
    "for num_days in [7, 14, 31, 90, 180, 365, 999]:\n",
    "    #Create groupby object for items with x days\n",
    "    ul_gb_xdays = (user_logs.loc[(user_logs['days_before_max_date'] < num_days)]\n",
    "                   .groupby(['msno'], sort=False))\n",
    "\n",
    "    #Generate sum and mean (and count, once) for all the user logs stats\n",
    "    past_xdays_by_user = (ul_gb_xdays\n",
    "        .agg({'num_unq':['sum', 'mean', 'count'],\n",
    "              'total_secs':['sum', 'mean'],\n",
    "              'num_25':['sum', 'mean'],\n",
    "              'num_50':['sum', 'mean'],\n",
    "              'num_75':['sum', 'mean'],\n",
    "              'num_985':['sum', 'mean'],\n",
    "              'num_100':['sum', 'mean'],\n",
    "             })\n",
    "                      )\n",
    "    #Append level header\n",
    "    past_xdays_by_user = pd.concat([past_xdays_by_user], axis=1, keys=['within_days_' + str(num_days)])\n",
    "\n",
    "    #Join (append) to user_logs_features table\n",
    "    user_logs_features = user_logs_features.join(past_xdays_by_user, how='inner')"
   ]
  },
  {
   "cell_type": "code",
   "execution_count": null,
   "metadata": {
    "collapsed": true
   },
   "outputs": [],
   "source": [
    "#Next, let's look at changes in last 7 days vs. last 30 days, and last 30 days vs. last 180 days.\n",
    "\n",
    "#Also, need to think about users with < x days tenure."
   ]
  },
  {
   "cell_type": "code",
   "execution_count": null,
   "metadata": {},
   "outputs": [],
   "source": [
    "#Join members and labels files\n",
    "features_all = None\n",
    "features_all = members.join(labels, how='inner')\n",
    "features_all = features_all.join(user_logs_features, how='inner')\n",
    "\n",
    "#Note, the warning is okay, and actually helps us by flattening our column headers.\n",
    "\n",
    "# Test\n",
    "features_all.head()"
   ]
  },
  {
   "cell_type": "markdown",
   "metadata": {},
   "source": [
    "# Transaction Data: Preparation and Feature Extraction"
   ]
  },
  {
   "cell_type": "markdown",
   "metadata": {
    "collapsed": true
   },
   "source": [
    "Grouping by the primary key (MSNO)"
   ]
  },
  {
   "cell_type": "code",
   "execution_count": null,
   "metadata": {},
   "outputs": [],
   "source": [
    "# Grouping by the member (msno)\n",
    "transactions_gb = transactions.sort_values([\"transaction_date\"]).groupby(['msno'])\n",
    "\n",
    "# How many groups i.e. members i.e. msno's. We're good if this is the same number as the members table\n",
    "print('%d Groups/msnos' %(len(transactions_gb.groups)))"
   ]
  },
  {
   "cell_type": "markdown",
   "metadata": {},
   "source": [
    "The list of features \n",
    "\n",
    "    * Latest transaction\n",
    "        * Plan no of days for the latest transaction\n",
    "        * Plan actual amount paid/day for the latest transaction\n",
    "        * plan total amount paid for the latest transaction\n",
    "        * Is_auto_renew for the latest transaction\n",
    "        * is_cancel for the latest transaction\n",
    "    * Aggregate values\n",
    "        * Total number of plan days\n",
    "        * Total of all the amounts paid for the plan\n",
    "    * Comparing transactions\n",
    "        * Plan day difference among the latest and previous transaction\n",
    "        * Amount paid/day difference among the latest and previous transaction\n",
    "    ....\n"
   ]
  },
  {
   "cell_type": "markdown",
   "metadata": {},
   "source": [
    "Aggregate values"
   ]
  },
  {
   "cell_type": "code",
   "execution_count": null,
   "metadata": {
    "collapsed": true
   },
   "outputs": [],
   "source": [
    "# Features: Total_plan_days, Total_amount_paid\n",
    "transactions_features = (transactions_gb\n",
    "    .agg({'payment_plan_days':'sum', 'actual_amount_paid':'sum' })\n",
    "    .rename(columns={'payment_plan_days': 'Total_plan_days', 'actual_amount_paid': 'Total_amount_paid',})\n",
    "          )\n",
    "# Test\n",
    "# transactions_features.head()"
   ]
  },
  {
   "cell_type": "markdown",
   "metadata": {},
   "source": [
    "Latest transaction. We'll just pick from the bottom of the ordered (by date) rows in groups"
   ]
  },
  {
   "cell_type": "code",
   "execution_count": null,
   "metadata": {
    "collapsed": true
   },
   "outputs": [],
   "source": [
    "# Features: latest transaction, renaming the collumns\n",
    "latest_transaction_gb = transactions_gb.tail([1]).rename(columns={'payment_plan_days': 'latest_plan_days', 'actual_amount_paid': 'latest_amount_paid','is_auto_renew': 'latest_auto_renew', \n",
    "                                                                  'transaction_date': 'latest_transaction_date',\n",
    "                                                                  'membership_expire_date': 'latest_expire_date', 'is_cancel': 'latest_is_cancel' })\n",
    "\n",
    "# Index by msno\n",
    "latest_transaction_gb.set_index('msno', inplace = True)\n",
    "\n",
    "# Test\n",
    "# latest_transaction_gb.head()"
   ]
  },
  {
   "cell_type": "code",
   "execution_count": null,
   "metadata": {},
   "outputs": [],
   "source": [
    "# Plan actual amount paid/day for the latest transaction\n",
    "# Adding the collumn amount_paid_per_day\n",
    "\n",
    "latest_transaction_gb['amount_paid_per_day'] = (latest_transaction_gb['latest_amount_paid']/latest_transaction_gb['latest_plan_days'])\n",
    "\n",
    "# Test\n",
    "latest_transaction_gb.head()"
   ]
  },
  {
   "cell_type": "code",
   "execution_count": null,
   "metadata": {
    "collapsed": true
   },
   "outputs": [],
   "source": [
    "# TODO Differences among latest and previous transaction"
   ]
  },
  {
   "cell_type": "markdown",
   "metadata": {},
   "source": [
    "Getting all the transaction features in a single DF"
   ]
  },
  {
   "cell_type": "code",
   "execution_count": null,
   "metadata": {},
   "outputs": [],
   "source": [
    "# Get all transaction features in a single DF\n",
    "transactions_features = transactions_features.join(latest_transaction_gb, how = 'inner')\n",
    "\n",
    "# Test\n",
    "transactions_features.head()"
   ]
  },
  {
   "cell_type": "markdown",
   "metadata": {},
   "source": [
    "# Bringing all the features in a single Data Frame, file\n",
    "\n",
    "Members and Labels were joined into the User logs DF\n",
    "\n",
    "The code below joins the Transaction features into the primary features dataframe"
   ]
  },
  {
   "cell_type": "code",
   "execution_count": null,
   "metadata": {
    "collapsed": true
   },
   "outputs": [],
   "source": [
    "# Joining feature DF's\n",
    "features_all = features_all.join(transactions_features, how='inner')"
   ]
  },
  {
   "cell_type": "code",
   "execution_count": null,
   "metadata": {},
   "outputs": [],
   "source": [
    "# Test\n",
    "features_all.head()"
   ]
  },
  {
   "cell_type": "code",
   "execution_count": null,
   "metadata": {
    "collapsed": true
   },
   "outputs": [],
   "source": [
    "#Write all features to pkl\n",
    "features_all.to_pickle('features_all.pkl')\n",
    "\n",
    "#Writing the features to a .pkl file allows us to use the 2nd ipynb file\n",
    "#without having to run all the code above"
   ]
  }
 ],
 "metadata": {
  "kernelspec": {
   "display_name": "Python 3",
   "language": "python",
   "name": "python3"
  },
  "language_info": {
   "codemirror_mode": {
    "name": "ipython",
    "version": 3
   },
   "file_extension": ".py",
   "mimetype": "text/x-python",
   "name": "python",
   "nbconvert_exporter": "python",
   "pygments_lexer": "ipython3",
   "version": "3.6.2"
  }
 },
 "nbformat": 4,
 "nbformat_minor": 2
}

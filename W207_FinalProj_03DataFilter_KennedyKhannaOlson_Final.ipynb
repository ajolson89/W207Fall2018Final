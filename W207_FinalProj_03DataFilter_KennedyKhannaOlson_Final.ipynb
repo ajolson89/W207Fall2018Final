{
 "cells": [
  {
   "cell_type": "markdown",
   "metadata": {},
   "source": [
    "# Initial Data Filter and QC"
   ]
  },
  {
   "cell_type": "code",
   "execution_count": 32,
   "metadata": {
    "collapsed": true,
    "deletable": true,
    "editable": true
   },
   "outputs": [],
   "source": [
    "import google.datalab.bigquery as bq\n",
    "import matplotlib.pyplot as plt\n",
    "import numpy as np\n",
    "import pandas as pd"
   ]
  },
  {
   "cell_type": "markdown",
   "metadata": {
    "deletable": true,
    "editable": true
   },
   "source": [
    "Pasted here is the code that was initially ran. As mentioned in the report, our dataset is large (~31GB combined tables) and couldn't all be ran on a single computer. For the sake of this analysis, we have filtered the data down to a mangageable size (~1.5GB). Additionally, we saw initially that our dataset contained only 6% churn. In order to help improve our model, we wanted to have a filtered dataset that contained a 50/50 split between churn and not churn. \n",
    "\n",
    "The methodology to get this data into a useable format was the following:\n",
    "    - Upload data into google cloud storage\n",
    "    - Utilize Google BigQuery to run SQL statement against the datasets\n",
    "    - Export the datasets as CSV files to be managed locally\n",
    "    \n",
    "For our dataset we wanted to have approximately 100k members (total dataset size is ~993k members so approximately 10% of our data). Utilizing a 50/50 split we therefore wantedk 50k members who did churn and 50k members who didn't churn. In order to filter the tables we first ran a query to get 50k members who did churn in the labels table:\n",
    "\n",
    "    SELECT * FROM [w207_kkbox_bq_data.labels] WHERE (RAND(5) < 50000/(SELECT COUNT(*) FROM [w207_kkbox_bq_data.labels] WHERE is_churn = 0) AND is_churn = 0)\n",
    "    SELECT * FROM [w207_kkbox_bq_data.labels] WHERE (RAND(5) < 50000/(SELECT COUNT(*) FROM [w207_kkbox_bq_data.labels] WHERE is_churn = 0) AND is_churn = 1)\n",
    "    \n",
    "These two tables were written to cloud storage and provided the baseline of the members that we would keep when querying other tables. The labels table contains member ID as well as the is_churn (dependent) variable. We now utilize these two tables to query the other datasets joining on the members ID [we kept these two tables separate and then combined the is_churn = 0 and is_churn = 1 into a combined table at the end, in hindsight it would have been more efficient to combine the labels table first]. \n",
    "\n",
    "Members Table:\n",
    "\n",
    "    SELECT members.*  FROM [w207_kkbox_bq_data.members] as members INNER JOIN [w207_kkbox_bq_data.labels_filtered_50k_churn_1] as lab ON members.msno = lab.msno\n",
    "    SELECT members.*  FROM [w207_kkbox_bq_data.members] as members INNER JOIN [w207_kkbox_bq_data.labels_filtered_50k_churn_0] as lab ON members.msno = lab.msno\n",
    "\n",
    "Transactions Table:\n",
    "\n",
    "    SELECT transactions.*  FROM [w207_kkbox_bq_data.transactions] as transactions INNER JOIN [w207_kkbox_bq_data.labels_filtered_50k_churn_0] as lab ON transactions.msno = lab.msno\n",
    "    SELECT transactions.*  FROM [w207_kkbox_bq_data.transactions] as transactions INNER JOIN [w207_kkbox_bq_data.labels_filtered_50k_churn_1] as lab ON transactions.msno = lab.msno\n",
    "    \n",
    "User_Logs Table:\n",
    "\n",
    "        SELECT user_logs.*  FROM [w207_kkbox_bq_data.user_logs] as user_logs INNER JOIN [w207_kkbox_bq_data.labels_filtered_50k_churn_1] as lab ON user_logs.msno = lab.msno\n",
    "        SELECT user_logs.*  FROM [w207_kkbox_bq_data.user_logs] as user_logs INNER JOIN [w207_kkbox_bq_data.labels_filtered_50k_churn_0] as lab ON user_logs.msno = lab.msno\n",
    "        \n",
    "With this methodology there was two tables (is_churn = 0 and is_churn = 1) for each table in the original dataset. We then combined/appended the two tables back into a singular table and exported to csv (labels_filtered.csv, members_filtered.csv, transactions_filtered.csv, user_logs_filtered.csv). From these local files we then began development towards predcting churn. \n",
    "\n",
    "While we moved ahead with this filtered dataset, we also wanted to perform quick EDA on the entire dataset to the filtered dataset, to compare and contrast some of the features in the dataset. We understand that we artificially inflated the is_churn = 1 statistic for purposes of model training, therefore there will be some changes between the filtered and original dataset. "
   ]
  },
  {
   "cell_type": "code",
   "execution_count": 33,
   "metadata": {
    "collapsed": false,
    "deletable": true,
    "editable": true
   },
   "outputs": [],
   "source": [
    "%%bq query --name is_churn_large\n",
    "SELECT SUM(is_churn) / COUNT(is_churn)\n",
    "FROM `w207_kkbox_bq_data.labels` AS labels"
   ]
  },
  {
   "cell_type": "code",
   "execution_count": 34,
   "metadata": {
    "collapsed": false,
    "deletable": true,
    "editable": true
   },
   "outputs": [
    {
     "data": {
      "text/html": [
       "\n",
       "    <div class=\"bqtv\" id=\"10_152436758645\"><table><tr><th>f0_</th></tr><tr><td>0.06392287077349786</td></tr></table></div>\n",
       "    <br />(rows: 1, time: 0.3s, cached, job: job_WFvTJUNTiVU0lg8eZM7HiKzbFhYR)<br />\n",
       "    <script src=\"/static/components/requirejs/require.js\"></script>\n",
       "    <script>\n",
       "      require.config({\n",
       "        paths: {\n",
       "          base: '/static/base',\n",
       "          d3: '//cdnjs.cloudflare.com/ajax/libs/d3/3.4.13/d3',\n",
       "          plotly: 'https://cdn.plot.ly/plotly-1.5.1.min.js?noext',\n",
       "          jquery: '//ajax.googleapis.com/ajax/libs/jquery/2.0.0/jquery.min'\n",
       "        },\n",
       "        map: {\n",
       "          '*': {\n",
       "            datalab: 'nbextensions/gcpdatalab'\n",
       "          }\n",
       "        },\n",
       "        shim: {\n",
       "          plotly: {\n",
       "            deps: ['d3', 'jquery'],\n",
       "            exports: 'plotly'\n",
       "          }\n",
       "        }\n",
       "      });\n",
       "\n",
       "      require(['datalab/charting', 'datalab/element!10_152436758645', 'base/js/events',\n",
       "          'datalab/style!/nbextensions/gcpdatalab/charting.css'],\n",
       "        function(charts, dom, events) {\n",
       "          charts.render('gcharts', dom, events, 'table', [], {\"rows\": [{\"c\": [{\"v\": 0.06392287077349786}]}], \"cols\": [{\"label\": \"f0_\", \"id\": \"f0_\", \"type\": \"number\"}]},\n",
       "            {\n",
       "              pageSize: 25,\n",
       "              cssClassNames:  {\n",
       "                tableRow: 'gchart-table-row',\n",
       "                headerRow: 'gchart-table-headerrow',\n",
       "                oddTableRow: 'gchart-table-oddrow',\n",
       "                selectedTableRow: 'gchart-table-selectedrow',\n",
       "                hoverTableRow: 'gchart-table-hoverrow',\n",
       "                tableCell: 'gchart-table-cell',\n",
       "                headerCell: 'gchart-table-headercell',\n",
       "                rowNumberCell: 'gchart-table-rownumcell'\n",
       "              }\n",
       "            },\n",
       "            {source_index: 0, fields: 'f0_'},\n",
       "            0,\n",
       "            1);\n",
       "        }\n",
       "      );\n",
       "    </script>\n",
       "  "
      ],
      "text/plain": [
       "QueryResultsTable job_WFvTJUNTiVU0lg8eZM7HiKzbFhYR"
      ]
     },
     "execution_count": 34,
     "metadata": {},
     "output_type": "execute_result"
    }
   ],
   "source": [
    "is_churn_large.execute().result()"
   ]
  },
  {
   "cell_type": "code",
   "execution_count": 35,
   "metadata": {
    "collapsed": true,
    "deletable": true,
    "editable": true
   },
   "outputs": [],
   "source": [
    "%%bq query --name is_churn_small\n",
    "SELECT SUM(is_churn) / COUNT(is_churn)\n",
    "FROM `w207_kkbox_bq_data.labels_filtered_100k` AS labels"
   ]
  },
  {
   "cell_type": "code",
   "execution_count": 36,
   "metadata": {
    "collapsed": false,
    "deletable": true,
    "editable": true
   },
   "outputs": [
    {
     "data": {
      "text/html": [
       "\n",
       "    <div class=\"bqtv\" id=\"11_152436758857\"><table><tr><th>f0_</th></tr><tr><td>0.5005559729526672</td></tr></table></div>\n",
       "    <br />(rows: 1, time: 0.1s, cached, job: job_6qccT3EvuDYAbLt8e7bMXy_rQuJC)<br />\n",
       "    <script src=\"/static/components/requirejs/require.js\"></script>\n",
       "    <script>\n",
       "      require.config({\n",
       "        paths: {\n",
       "          base: '/static/base',\n",
       "          d3: '//cdnjs.cloudflare.com/ajax/libs/d3/3.4.13/d3',\n",
       "          plotly: 'https://cdn.plot.ly/plotly-1.5.1.min.js?noext',\n",
       "          jquery: '//ajax.googleapis.com/ajax/libs/jquery/2.0.0/jquery.min'\n",
       "        },\n",
       "        map: {\n",
       "          '*': {\n",
       "            datalab: 'nbextensions/gcpdatalab'\n",
       "          }\n",
       "        },\n",
       "        shim: {\n",
       "          plotly: {\n",
       "            deps: ['d3', 'jquery'],\n",
       "            exports: 'plotly'\n",
       "          }\n",
       "        }\n",
       "      });\n",
       "\n",
       "      require(['datalab/charting', 'datalab/element!11_152436758857', 'base/js/events',\n",
       "          'datalab/style!/nbextensions/gcpdatalab/charting.css'],\n",
       "        function(charts, dom, events) {\n",
       "          charts.render('gcharts', dom, events, 'table', [], {\"rows\": [{\"c\": [{\"v\": 0.5005559729526672}]}], \"cols\": [{\"label\": \"f0_\", \"id\": \"f0_\", \"type\": \"number\"}]},\n",
       "            {\n",
       "              pageSize: 25,\n",
       "              cssClassNames:  {\n",
       "                tableRow: 'gchart-table-row',\n",
       "                headerRow: 'gchart-table-headerrow',\n",
       "                oddTableRow: 'gchart-table-oddrow',\n",
       "                selectedTableRow: 'gchart-table-selectedrow',\n",
       "                hoverTableRow: 'gchart-table-hoverrow',\n",
       "                tableCell: 'gchart-table-cell',\n",
       "                headerCell: 'gchart-table-headercell',\n",
       "                rowNumberCell: 'gchart-table-rownumcell'\n",
       "              }\n",
       "            },\n",
       "            {source_index: 9, fields: 'f0_'},\n",
       "            0,\n",
       "            1);\n",
       "        }\n",
       "      );\n",
       "    </script>\n",
       "  "
      ],
      "text/plain": [
       "QueryResultsTable job_6qccT3EvuDYAbLt8e7bMXy_rQuJC"
      ]
     },
     "execution_count": 36,
     "metadata": {},
     "output_type": "execute_result"
    }
   ],
   "source": [
    "is_churn_small.execute().result()"
   ]
  },
  {
   "cell_type": "markdown",
   "metadata": {
    "deletable": true,
    "editable": true
   },
   "source": [
    "Here we look at the proportion of is_churn data. We can see that we manipulated the churn percentage in the filtered dataset. This was intentional in order to create an approximate even split between is churn and is_not_churn to benefit the model training and increase the number of examples of is_churn (since our original dataset only contains 6% is_churn). "
   ]
  },
  {
   "cell_type": "code",
   "execution_count": 37,
   "metadata": {
    "collapsed": true,
    "deletable": true,
    "editable": true
   },
   "outputs": [],
   "source": [
    "%%bq query --name cities\n",
    "SELECT city, COUNT(msno) AS population\n",
    "FROM `w207_kkbox_bq_data.members` \n",
    "GROUP BY city"
   ]
  },
  {
   "cell_type": "code",
   "execution_count": 38,
   "metadata": {
    "collapsed": false,
    "deletable": true,
    "editable": true
   },
   "outputs": [
    {
     "data": {
      "text/html": [
       "\n",
       "    <div class=\"bqtv\" id=\"12_152436759069\"><table><tr><th>city</th><th>population</th></tr><tr><td>1</td><td>4804326</td></tr><tr><td>5</td><td>385069</td></tr><tr><td>9</td><td>47639</td></tr><tr><td>6</td><td>135200</td></tr><tr><td>4</td><td>246848</td></tr><tr><td>13</td><td>320978</td></tr><tr><td>22</td><td>210407</td></tr><tr><td>14</td><td>89940</td></tr><tr><td>8</td><td>45975</td></tr><tr><td>15</td><td>190213</td></tr><tr><td>17</td><td>27772</td></tr><tr><td>10</td><td>32482</td></tr><tr><td>11</td><td>47489</td></tr><tr><td>18</td><td>38039</td></tr><tr><td>12</td><td>66843</td></tr><tr><td>16</td><td>5092</td></tr><tr><td>21</td><td>30837</td></tr><tr><td>7</td><td>11610</td></tr><tr><td>3</td><td>27282</td></tr><tr><td>19</td><td>1199</td></tr><tr><td>20</td><td>4233</td></tr></table></div>\n",
       "    <br />(rows: 21, time: 0.1s, cached, job: job_VRruJOzjmzBAePlRp8ei86w2l3uB)<br />\n",
       "    <script src=\"/static/components/requirejs/require.js\"></script>\n",
       "    <script>\n",
       "      require.config({\n",
       "        paths: {\n",
       "          base: '/static/base',\n",
       "          d3: '//cdnjs.cloudflare.com/ajax/libs/d3/3.4.13/d3',\n",
       "          plotly: 'https://cdn.plot.ly/plotly-1.5.1.min.js?noext',\n",
       "          jquery: '//ajax.googleapis.com/ajax/libs/jquery/2.0.0/jquery.min'\n",
       "        },\n",
       "        map: {\n",
       "          '*': {\n",
       "            datalab: 'nbextensions/gcpdatalab'\n",
       "          }\n",
       "        },\n",
       "        shim: {\n",
       "          plotly: {\n",
       "            deps: ['d3', 'jquery'],\n",
       "            exports: 'plotly'\n",
       "          }\n",
       "        }\n",
       "      });\n",
       "\n",
       "      require(['datalab/charting', 'datalab/element!12_152436759069', 'base/js/events',\n",
       "          'datalab/style!/nbextensions/gcpdatalab/charting.css'],\n",
       "        function(charts, dom, events) {\n",
       "          charts.render('gcharts', dom, events, 'table', [], {\"rows\": [{\"c\": [{\"v\": 1}, {\"v\": 4804326}]}, {\"c\": [{\"v\": 5}, {\"v\": 385069}]}, {\"c\": [{\"v\": 9}, {\"v\": 47639}]}, {\"c\": [{\"v\": 6}, {\"v\": 135200}]}, {\"c\": [{\"v\": 4}, {\"v\": 246848}]}, {\"c\": [{\"v\": 13}, {\"v\": 320978}]}, {\"c\": [{\"v\": 22}, {\"v\": 210407}]}, {\"c\": [{\"v\": 14}, {\"v\": 89940}]}, {\"c\": [{\"v\": 8}, {\"v\": 45975}]}, {\"c\": [{\"v\": 15}, {\"v\": 190213}]}, {\"c\": [{\"v\": 17}, {\"v\": 27772}]}, {\"c\": [{\"v\": 10}, {\"v\": 32482}]}, {\"c\": [{\"v\": 11}, {\"v\": 47489}]}, {\"c\": [{\"v\": 18}, {\"v\": 38039}]}, {\"c\": [{\"v\": 12}, {\"v\": 66843}]}, {\"c\": [{\"v\": 16}, {\"v\": 5092}]}, {\"c\": [{\"v\": 21}, {\"v\": 30837}]}, {\"c\": [{\"v\": 7}, {\"v\": 11610}]}, {\"c\": [{\"v\": 3}, {\"v\": 27282}]}, {\"c\": [{\"v\": 19}, {\"v\": 1199}]}, {\"c\": [{\"v\": 20}, {\"v\": 4233}]}], \"cols\": [{\"label\": \"city\", \"id\": \"city\", \"type\": \"number\"}, {\"label\": \"population\", \"id\": \"population\", \"type\": \"number\"}]},\n",
       "            {\n",
       "              pageSize: 25,\n",
       "              cssClassNames:  {\n",
       "                tableRow: 'gchart-table-row',\n",
       "                headerRow: 'gchart-table-headerrow',\n",
       "                oddTableRow: 'gchart-table-oddrow',\n",
       "                selectedTableRow: 'gchart-table-selectedrow',\n",
       "                hoverTableRow: 'gchart-table-hoverrow',\n",
       "                tableCell: 'gchart-table-cell',\n",
       "                headerCell: 'gchart-table-headercell',\n",
       "                rowNumberCell: 'gchart-table-rownumcell'\n",
       "              }\n",
       "            },\n",
       "            {source_index: 10, fields: 'city,population'},\n",
       "            0,\n",
       "            21);\n",
       "        }\n",
       "      );\n",
       "    </script>\n",
       "  "
      ],
      "text/plain": [
       "QueryResultsTable job_VRruJOzjmzBAePlRp8ei86w2l3uB"
      ]
     },
     "execution_count": 38,
     "metadata": {},
     "output_type": "execute_result"
    }
   ],
   "source": [
    "cities.execute().result()"
   ]
  },
  {
   "cell_type": "code",
   "execution_count": 39,
   "metadata": {
    "collapsed": false,
    "deletable": true,
    "editable": true
   },
   "outputs": [
    {
     "data": {
      "text/html": [
       "\n",
       "    <div class=\"bqgc-container\">\n",
       "      \n",
       "      <div class=\"bqgc \" id=\"4_152436759091\">\n",
       "      </div>\n",
       "    </div>\n",
       "    <script src=\"/static/components/requirejs/require.js\"></script>\n",
       "    <script>\n",
       "\n",
       "      require.config({\n",
       "        paths: {\n",
       "          base: '/static/base',\n",
       "          d3: '//cdnjs.cloudflare.com/ajax/libs/d3/3.4.13/d3',\n",
       "          plotly: 'https://cdn.plot.ly/plotly-1.5.1.min.js?noext',\n",
       "          jquery: '//ajax.googleapis.com/ajax/libs/jquery/2.0.0/jquery.min'\n",
       "        },\n",
       "        map: {\n",
       "          '*': {\n",
       "            datalab: 'nbextensions/gcpdatalab'\n",
       "          }\n",
       "        },\n",
       "        shim: {\n",
       "          plotly: {\n",
       "            deps: ['d3', 'jquery'],\n",
       "            exports: 'plotly'\n",
       "          }\n",
       "        }\n",
       "      });\n",
       "\n",
       "      require(['datalab/charting',\n",
       "               'datalab/element!4_152436759091',\n",
       "               'base/js/events',\n",
       "               'datalab/style!/nbextensions/gcpdatalab/charting.css'\n",
       "              ],\n",
       "        function(charts, dom, events) {\n",
       "          charts.render(\n",
       "              'gcharts',\n",
       "              dom,\n",
       "              events,\n",
       "              'columns',\n",
       "              [],\n",
       "              {\"rows\": [{\"c\": [{\"v\": 1}, {\"v\": 4804326}]}, {\"c\": [{\"v\": 5}, {\"v\": 385069}]}, {\"c\": [{\"v\": 9}, {\"v\": 47639}]}, {\"c\": [{\"v\": 6}, {\"v\": 135200}]}, {\"c\": [{\"v\": 4}, {\"v\": 246848}]}, {\"c\": [{\"v\": 13}, {\"v\": 320978}]}, {\"c\": [{\"v\": 22}, {\"v\": 210407}]}, {\"c\": [{\"v\": 14}, {\"v\": 89940}]}, {\"c\": [{\"v\": 8}, {\"v\": 45975}]}, {\"c\": [{\"v\": 15}, {\"v\": 190213}]}, {\"c\": [{\"v\": 17}, {\"v\": 27772}]}, {\"c\": [{\"v\": 10}, {\"v\": 32482}]}, {\"c\": [{\"v\": 11}, {\"v\": 47489}]}, {\"c\": [{\"v\": 18}, {\"v\": 38039}]}, {\"c\": [{\"v\": 12}, {\"v\": 66843}]}, {\"c\": [{\"v\": 16}, {\"v\": 5092}]}, {\"c\": [{\"v\": 21}, {\"v\": 30837}]}, {\"c\": [{\"v\": 7}, {\"v\": 11610}]}, {\"c\": [{\"v\": 3}, {\"v\": 27282}]}, {\"c\": [{\"v\": 19}, {\"v\": 1199}]}, {\"c\": [{\"v\": 20}, {\"v\": 4233}]}], \"cols\": [{\"label\": \"city\", \"id\": \"city\", \"type\": \"number\"}, {\"label\": \"population\", \"id\": \"population\", \"type\": \"number\"}]},\n",
       "              {},\n",
       "              {\"source_index\": 1, \"fields\": \"city,population\", \"name\": 1},\n",
       "              0,\n",
       "              21);\n",
       "          }\n",
       "        );\n",
       "    </script>\n",
       "  "
      ],
      "text/plain": [
       "<IPython.core.display.HTML object>"
      ]
     },
     "execution_count": 39,
     "metadata": {},
     "output_type": "execute_result"
    },
    {
     "data": {
      "image/png": "[encoded data removed]"
     },
     "metadata": {
      "source_id": "4_152436759091"
     },
     "output_type": "display_data"
    }
   ],
   "source": [
    "%chart columns --data cities --fields city,population"
   ]
  },
  {
   "cell_type": "code",
   "execution_count": 40,
   "metadata": {
    "collapsed": true,
    "deletable": true,
    "editable": true
   },
   "outputs": [],
   "source": [
    "%%bq query --name cities\n",
    "SELECT members_city AS city, COUNT(members_msno) AS population\n",
    "FROM `w207_kkbox_bq_data.members_filtered_100k` \n",
    "GROUP BY city"
   ]
  },
  {
   "cell_type": "code",
   "execution_count": 41,
   "metadata": {
    "collapsed": false,
    "deletable": true,
    "editable": true
   },
   "outputs": [
    {
     "data": {
      "text/html": [
       "\n",
       "    <div class=\"bqtv\" id=\"13_152436759488\"><table><tr><th>city</th><th>population</th></tr><tr><td>1</td><td>40639</td></tr><tr><td>10</td><td>763</td></tr><tr><td>4</td><td>5670</td></tr><tr><td>5</td><td>8469</td></tr><tr><td>13</td><td>11012</td></tr><tr><td>14</td><td>2273</td></tr><tr><td>15</td><td>5032</td></tr><tr><td>8</td><td>937</td></tr><tr><td>12</td><td>1395</td></tr><tr><td>22</td><td>4825</td></tr><tr><td>7</td><td>290</td></tr><tr><td>6</td><td>3113</td></tr><tr><td>21</td><td>657</td></tr><tr><td>17</td><td>581</td></tr><tr><td>11</td><td>1021</td></tr><tr><td>16</td><td>118</td></tr><tr><td>9</td><td>1107</td></tr><tr><td>18</td><td>900</td></tr><tr><td>3</td><td>584</td></tr><tr><td>20</td><td>76</td></tr><tr><td>19</td><td>11</td></tr></table></div>\n",
       "    <br />(rows: 21, time: 0.2s, cached, job: job_gV83pX9lLCc3jSdGZhB1sEsQFWW0)<br />\n",
       "    <script src=\"/static/components/requirejs/require.js\"></script>\n",
       "    <script>\n",
       "      require.config({\n",
       "        paths: {\n",
       "          base: '/static/base',\n",
       "          d3: '//cdnjs.cloudflare.com/ajax/libs/d3/3.4.13/d3',\n",
       "          plotly: 'https://cdn.plot.ly/plotly-1.5.1.min.js?noext',\n",
       "          jquery: '//ajax.googleapis.com/ajax/libs/jquery/2.0.0/jquery.min'\n",
       "        },\n",
       "        map: {\n",
       "          '*': {\n",
       "            datalab: 'nbextensions/gcpdatalab'\n",
       "          }\n",
       "        },\n",
       "        shim: {\n",
       "          plotly: {\n",
       "            deps: ['d3', 'jquery'],\n",
       "            exports: 'plotly'\n",
       "          }\n",
       "        }\n",
       "      });\n",
       "\n",
       "      require(['datalab/charting', 'datalab/element!13_152436759488', 'base/js/events',\n",
       "          'datalab/style!/nbextensions/gcpdatalab/charting.css'],\n",
       "        function(charts, dom, events) {\n",
       "          charts.render('gcharts', dom, events, 'table', [], {\"rows\": [{\"c\": [{\"v\": 1}, {\"v\": 40639}]}, {\"c\": [{\"v\": 10}, {\"v\": 763}]}, {\"c\": [{\"v\": 4}, {\"v\": 5670}]}, {\"c\": [{\"v\": 5}, {\"v\": 8469}]}, {\"c\": [{\"v\": 13}, {\"v\": 11012}]}, {\"c\": [{\"v\": 14}, {\"v\": 2273}]}, {\"c\": [{\"v\": 15}, {\"v\": 5032}]}, {\"c\": [{\"v\": 8}, {\"v\": 937}]}, {\"c\": [{\"v\": 12}, {\"v\": 1395}]}, {\"c\": [{\"v\": 22}, {\"v\": 4825}]}, {\"c\": [{\"v\": 7}, {\"v\": 290}]}, {\"c\": [{\"v\": 6}, {\"v\": 3113}]}, {\"c\": [{\"v\": 21}, {\"v\": 657}]}, {\"c\": [{\"v\": 17}, {\"v\": 581}]}, {\"c\": [{\"v\": 11}, {\"v\": 1021}]}, {\"c\": [{\"v\": 16}, {\"v\": 118}]}, {\"c\": [{\"v\": 9}, {\"v\": 1107}]}, {\"c\": [{\"v\": 18}, {\"v\": 900}]}, {\"c\": [{\"v\": 3}, {\"v\": 584}]}, {\"c\": [{\"v\": 20}, {\"v\": 76}]}, {\"c\": [{\"v\": 19}, {\"v\": 11}]}], \"cols\": [{\"label\": \"city\", \"id\": \"city\", \"type\": \"number\"}, {\"label\": \"population\", \"id\": \"population\", \"type\": \"number\"}]},\n",
       "            {\n",
       "              pageSize: 25,\n",
       "              cssClassNames:  {\n",
       "                tableRow: 'gchart-table-row',\n",
       "                headerRow: 'gchart-table-headerrow',\n",
       "                oddTableRow: 'gchart-table-oddrow',\n",
       "                selectedTableRow: 'gchart-table-selectedrow',\n",
       "                hoverTableRow: 'gchart-table-hoverrow',\n",
       "                tableCell: 'gchart-table-cell',\n",
       "                headerCell: 'gchart-table-headercell',\n",
       "                rowNumberCell: 'gchart-table-rownumcell'\n",
       "              }\n",
       "            },\n",
       "            {source_index: 11, fields: 'city,population'},\n",
       "            0,\n",
       "            21);\n",
       "        }\n",
       "      );\n",
       "    </script>\n",
       "  "
      ],
      "text/plain": [
       "QueryResultsTable job_gV83pX9lLCc3jSdGZhB1sEsQFWW0"
      ]
     },
     "execution_count": 41,
     "metadata": {},
     "output_type": "execute_result"
    }
   ],
   "source": [
    "cities.execute().result()"
   ]
  },
  {
   "cell_type": "code",
   "execution_count": 42,
   "metadata": {
    "collapsed": false,
    "deletable": true,
    "editable": true
   },
   "outputs": [
    {
     "data": {
      "text/html": [
       "\n",
       "    <div class=\"bqgc-container\">\n",
       "      \n",
       "      <div class=\"bqgc \" id=\"5_152436759510\">\n",
       "      </div>\n",
       "    </div>\n",
       "    <script src=\"/static/components/requirejs/require.js\"></script>\n",
       "    <script>\n",
       "\n",
       "      require.config({\n",
       "        paths: {\n",
       "          base: '/static/base',\n",
       "          d3: '//cdnjs.cloudflare.com/ajax/libs/d3/3.4.13/d3',\n",
       "          plotly: 'https://cdn.plot.ly/plotly-1.5.1.min.js?noext',\n",
       "          jquery: '//ajax.googleapis.com/ajax/libs/jquery/2.0.0/jquery.min'\n",
       "        },\n",
       "        map: {\n",
       "          '*': {\n",
       "            datalab: 'nbextensions/gcpdatalab'\n",
       "          }\n",
       "        },\n",
       "        shim: {\n",
       "          plotly: {\n",
       "            deps: ['d3', 'jquery'],\n",
       "            exports: 'plotly'\n",
       "          }\n",
       "        }\n",
       "      });\n",
       "\n",
       "      require(['datalab/charting',\n",
       "               'datalab/element!5_152436759510',\n",
       "               'base/js/events',\n",
       "               'datalab/style!/nbextensions/gcpdatalab/charting.css'\n",
       "              ],\n",
       "        function(charts, dom, events) {\n",
       "          charts.render(\n",
       "              'gcharts',\n",
       "              dom,\n",
       "              events,\n",
       "              'columns',\n",
       "              [],\n",
       "              {\"rows\": [{\"c\": [{\"v\": 1}, {\"v\": 40639}]}, {\"c\": [{\"v\": 10}, {\"v\": 763}]}, {\"c\": [{\"v\": 4}, {\"v\": 5670}]}, {\"c\": [{\"v\": 5}, {\"v\": 8469}]}, {\"c\": [{\"v\": 13}, {\"v\": 11012}]}, {\"c\": [{\"v\": 14}, {\"v\": 2273}]}, {\"c\": [{\"v\": 15}, {\"v\": 5032}]}, {\"c\": [{\"v\": 8}, {\"v\": 937}]}, {\"c\": [{\"v\": 12}, {\"v\": 1395}]}, {\"c\": [{\"v\": 22}, {\"v\": 4825}]}, {\"c\": [{\"v\": 7}, {\"v\": 290}]}, {\"c\": [{\"v\": 6}, {\"v\": 3113}]}, {\"c\": [{\"v\": 21}, {\"v\": 657}]}, {\"c\": [{\"v\": 17}, {\"v\": 581}]}, {\"c\": [{\"v\": 11}, {\"v\": 1021}]}, {\"c\": [{\"v\": 16}, {\"v\": 118}]}, {\"c\": [{\"v\": 9}, {\"v\": 1107}]}, {\"c\": [{\"v\": 18}, {\"v\": 900}]}, {\"c\": [{\"v\": 3}, {\"v\": 584}]}, {\"c\": [{\"v\": 20}, {\"v\": 76}]}, {\"c\": [{\"v\": 19}, {\"v\": 11}]}], \"cols\": [{\"label\": \"city\", \"id\": \"city\", \"type\": \"number\"}, {\"label\": \"population\", \"id\": \"population\", \"type\": \"number\"}]},\n",
       "              {},\n",
       "              {\"source_index\": 1, \"fields\": \"city,population\", \"name\": 1},\n",
       "              0,\n",
       "              21);\n",
       "          }\n",
       "        );\n",
       "    </script>\n",
       "  "
      ],
      "text/plain": [
       "<IPython.core.display.HTML object>"
      ]
     },
     "execution_count": 42,
     "metadata": {},
     "output_type": "execute_result"
    },
    {
     "data": {
      "image/png": "[encoded data removed]"
     },
     "metadata": {
      "source_id": "5_152436759510"
     },
     "output_type": "display_data"
    }
   ],
   "source": [
    "%chart columns --data cities --fields city,population"
   ]
  },
  {
   "cell_type": "markdown",
   "metadata": {
    "deletable": true,
    "editable": true
   },
   "source": [
    "We can see that there is one city (labeled city = 1 that uses kkbox service far more than any other city accross the geographical area that kkbox is used. Comparing the two datasets, we see that overall city one has a higher proportion of the total members in the original dataset compared to the filtered. "
   ]
  },
  {
   "cell_type": "code",
   "execution_count": 43,
   "metadata": {
    "collapsed": true,
    "deletable": true,
    "editable": true
   },
   "outputs": [],
   "source": [
    "%%bq query --name city_renew\n",
    "SELECT members.city AS city, CAST(SUM(transactions.is_auto_renew) / COUNT(members.city) AS FLOAT64) AS renew_by_city\n",
    "FROM `w207_kkbox_bq_data.members` AS members\n",
    "INNER JOIN `w207_kkbox_bq_data.transactions` AS transactions\n",
    "ON members.msno = transactions.msno\n",
    "GROUP BY members.city\n",
    "ORDER BY renew_by_city DESC"
   ]
  },
  {
   "cell_type": "code",
   "execution_count": 44,
   "metadata": {
    "collapsed": false,
    "deletable": true,
    "editable": true
   },
   "outputs": [
    {
     "data": {
      "text/html": [
       "\n",
       "    <div class=\"bqgc-container\">\n",
       "      \n",
       "      <div class=\"bqgc \" id=\"6_152436759709\">\n",
       "      </div>\n",
       "    </div>\n",
       "    <script src=\"/static/components/requirejs/require.js\"></script>\n",
       "    <script>\n",
       "\n",
       "      require.config({\n",
       "        paths: {\n",
       "          base: '/static/base',\n",
       "          d3: '//cdnjs.cloudflare.com/ajax/libs/d3/3.4.13/d3',\n",
       "          plotly: 'https://cdn.plot.ly/plotly-1.5.1.min.js?noext',\n",
       "          jquery: '//ajax.googleapis.com/ajax/libs/jquery/2.0.0/jquery.min'\n",
       "        },\n",
       "        map: {\n",
       "          '*': {\n",
       "            datalab: 'nbextensions/gcpdatalab'\n",
       "          }\n",
       "        },\n",
       "        shim: {\n",
       "          plotly: {\n",
       "            deps: ['d3', 'jquery'],\n",
       "            exports: 'plotly'\n",
       "          }\n",
       "        }\n",
       "      });\n",
       "\n",
       "      require(['datalab/charting',\n",
       "               'datalab/element!6_152436759709',\n",
       "               'base/js/events',\n",
       "               'datalab/style!/nbextensions/gcpdatalab/charting.css'\n",
       "              ],\n",
       "        function(charts, dom, events) {\n",
       "          charts.render(\n",
       "              'gcharts',\n",
       "              dom,\n",
       "              events,\n",
       "              'columns',\n",
       "              [],\n",
       "              {\"rows\": [{\"c\": [{\"v\": 1}, {\"v\": 0.8945960127765824}]}, {\"c\": [{\"v\": 14}, {\"v\": 0.8189751372584029}]}, {\"c\": [{\"v\": 16}, {\"v\": 0.8168234643054787}]}, {\"c\": [{\"v\": 17}, {\"v\": 0.8127863844643247}]}, {\"c\": [{\"v\": 7}, {\"v\": 0.8071678266620477}]}, {\"c\": [{\"v\": 13}, {\"v\": 0.8046112985334092}]}, {\"c\": [{\"v\": 4}, {\"v\": 0.7876644693624822}]}, {\"c\": [{\"v\": 5}, {\"v\": 0.7868372006362852}]}, {\"c\": [{\"v\": 22}, {\"v\": 0.7864741596560252}]}, {\"c\": [{\"v\": 15}, {\"v\": 0.7863995501572723}]}, {\"c\": [{\"v\": 18}, {\"v\": 0.781381180189894}]}, {\"c\": [{\"v\": 19}, {\"v\": 0.7798003523194363}]}, {\"c\": [{\"v\": 20}, {\"v\": 0.779194753142649}]}, {\"c\": [{\"v\": 11}, {\"v\": 0.7785532844289343}]}, {\"c\": [{\"v\": 6}, {\"v\": 0.7748307372423409}]}, {\"c\": [{\"v\": 10}, {\"v\": 0.7684719825969545}]}, {\"c\": [{\"v\": 3}, {\"v\": 0.7579729978471905}]}, {\"c\": [{\"v\": 12}, {\"v\": 0.7488124303143071}]}, {\"c\": [{\"v\": 8}, {\"v\": 0.7483064937021473}]}, {\"c\": [{\"v\": 21}, {\"v\": 0.7167859733215604}]}, {\"c\": [{\"v\": 9}, {\"v\": 0.6872863817093813}]}], \"cols\": [{\"label\": \"city\", \"id\": \"city\", \"type\": \"number\"}, {\"label\": \"renew_by_city\", \"id\": \"renew_by_city\", \"type\": \"number\"}]},\n",
       "              {},\n",
       "              {\"source_index\": 2, \"fields\": \"city,renew_by_city\", \"name\": 2},\n",
       "              0,\n",
       "              21);\n",
       "          }\n",
       "        );\n",
       "    </script>\n",
       "  "
      ],
      "text/plain": [
       "<IPython.core.display.HTML object>"
      ]
     },
     "execution_count": 44,
     "metadata": {},
     "output_type": "execute_result"
    },
    {
     "data": {
      "image/png": "[encoded data removed]"
     },
     "metadata": {
      "source_id": "6_152436759709"
     },
     "output_type": "display_data"
    }
   ],
   "source": [
    "%chart columns --data city_renew --fields city,renew_by_city"
   ]
  },
  {
   "cell_type": "code",
   "execution_count": 45,
   "metadata": {
    "collapsed": true,
    "deletable": true,
    "editable": true
   },
   "outputs": [],
   "source": [
    "%%bq query --name city_renew\n",
    "SELECT members.members_city AS city, CAST(SUM(transactions.transactions_is_auto_renew) / COUNT(members.members_city) AS FLOAT64) AS renew_by_city\n",
    "FROM `w207_kkbox_bq_data.members_filtered_100k` AS members\n",
    "INNER JOIN `w207_kkbox_bq_data.transactions_filtered_100k` AS transactions\n",
    "ON members.members_msno = transactions.transactions_msno\n",
    "GROUP BY city\n",
    "ORDER BY renew_by_city DESC"
   ]
  },
  {
   "cell_type": "code",
   "execution_count": 46,
   "metadata": {
    "collapsed": false,
    "deletable": true,
    "editable": true
   },
   "outputs": [
    {
     "data": {
      "text/html": [
       "\n",
       "    <div class=\"bqgc-container\">\n",
       "      \n",
       "      <div class=\"bqgc \" id=\"7_152436760604\">\n",
       "      </div>\n",
       "    </div>\n",
       "    <script src=\"/static/components/requirejs/require.js\"></script>\n",
       "    <script>\n",
       "\n",
       "      require.config({\n",
       "        paths: {\n",
       "          base: '/static/base',\n",
       "          d3: '//cdnjs.cloudflare.com/ajax/libs/d3/3.4.13/d3',\n",
       "          plotly: 'https://cdn.plot.ly/plotly-1.5.1.min.js?noext',\n",
       "          jquery: '//ajax.googleapis.com/ajax/libs/jquery/2.0.0/jquery.min'\n",
       "        },\n",
       "        map: {\n",
       "          '*': {\n",
       "            datalab: 'nbextensions/gcpdatalab'\n",
       "          }\n",
       "        },\n",
       "        shim: {\n",
       "          plotly: {\n",
       "            deps: ['d3', 'jquery'],\n",
       "            exports: 'plotly'\n",
       "          }\n",
       "        }\n",
       "      });\n",
       "\n",
       "      require(['datalab/charting',\n",
       "               'datalab/element!7_152436760604',\n",
       "               'base/js/events',\n",
       "               'datalab/style!/nbextensions/gcpdatalab/charting.css'\n",
       "              ],\n",
       "        function(charts, dom, events) {\n",
       "          charts.render(\n",
       "              'gcharts',\n",
       "              dom,\n",
       "              events,\n",
       "              'columns',\n",
       "              [],\n",
       "              {\"rows\": [{\"c\": [{\"v\": 1}, {\"v\": 0.8957308843271565}]}, {\"c\": [{\"v\": 19}, {\"v\": 0.8531468531468531}]}, {\"c\": [{\"v\": 16}, {\"v\": 0.78980490874764}]}, {\"c\": [{\"v\": 14}, {\"v\": 0.7861950763477719}]}, {\"c\": [{\"v\": 17}, {\"v\": 0.7710740785792483}]}, {\"c\": [{\"v\": 9}, {\"v\": 0.7675121891007838}]}, {\"c\": [{\"v\": 13}, {\"v\": 0.7637058753366438}]}, {\"c\": [{\"v\": 7}, {\"v\": 0.7519286403085824}]}, {\"c\": [{\"v\": 5}, {\"v\": 0.7464286949603957}]}, {\"c\": [{\"v\": 10}, {\"v\": 0.7457795431976166}]}, {\"c\": [{\"v\": 22}, {\"v\": 0.7445258853483527}]}, {\"c\": [{\"v\": 4}, {\"v\": 0.7395663567973507}]}, {\"c\": [{\"v\": 15}, {\"v\": 0.7389468455042225}]}, {\"c\": [{\"v\": 11}, {\"v\": 0.7377781141213864}]}, {\"c\": [{\"v\": 6}, {\"v\": 0.7349130583020798}]}, {\"c\": [{\"v\": 3}, {\"v\": 0.7313613771366226}]}, {\"c\": [{\"v\": 18}, {\"v\": 0.7240743708927713}]}, {\"c\": [{\"v\": 12}, {\"v\": 0.7027717602621786}]}, {\"c\": [{\"v\": 8}, {\"v\": 0.7011804384485666}]}, {\"c\": [{\"v\": 20}, {\"v\": 0.6908358509566969}]}, {\"c\": [{\"v\": 21}, {\"v\": 0.6564617618586641}]}], \"cols\": [{\"label\": \"city\", \"id\": \"city\", \"type\": \"number\"}, {\"label\": \"renew_by_city\", \"id\": \"renew_by_city\", \"type\": \"number\"}]},\n",
       "              {},\n",
       "              {\"source_index\": 2, \"fields\": \"city,renew_by_city\", \"name\": 2},\n",
       "              0,\n",
       "              21);\n",
       "          }\n",
       "        );\n",
       "    </script>\n",
       "  "
      ],
      "text/plain": [
       "<IPython.core.display.HTML object>"
      ]
     },
     "execution_count": 46,
     "metadata": {},
     "output_type": "execute_result"
    },
    {
     "data": {
      "image/png": "[encoded data removed]"
     },
     "metadata": {
      "source_id": "7_152436760604"
     },
     "output_type": "display_data"
    }
   ],
   "source": [
    "%chart columns --data city_renew --fields city,renew_by_city"
   ]
  },
  {
   "cell_type": "markdown",
   "metadata": {
    "deletable": true,
    "editable": true
   },
   "source": [
    "In the plot above we analyze the proportion of auto-renew customers by city. From before we saw that city 1 had the highest count overall for users. Here we can see that it also has the highest proportion of auto-renew customers. Overall, it appears that most customers are on an auto-renew plan which is good from a business perspective.\n",
    "\n",
    "Comparing the two dataframes there is similar structure to both bar charts, which means the datasets for this feature are consistent. "
   ]
  },
  {
   "cell_type": "code",
   "execution_count": 51,
   "metadata": {
    "collapsed": false
   },
   "outputs": [],
   "source": [
    "%%bq query --name gender_describe\n",
    "SELECT COUNT(gender) AS gen FROM `w207_kkbox_bq_data.members` AS members GROUP BY gender"
   ]
  },
  {
   "cell_type": "code",
   "execution_count": 52,
   "metadata": {
    "collapsed": false
   },
   "outputs": [
    {
     "data": {
      "text/html": [
       "\n",
       "    <div class=\"bqtv\" id=\"14_152436780635\"><table><tr><th>gen</th></tr><tr><td>1144613</td></tr><tr><td>1195355</td></tr><tr><td>0</td></tr></table></div>\n",
       "    <br />(rows: 3, time: 0.2s, cached, job: job_AfNz0MGXT8OgGZx6EY3RMrmDKeOA)<br />\n",
       "    <script src=\"/static/components/requirejs/require.js\"></script>\n",
       "    <script>\n",
       "      require.config({\n",
       "        paths: {\n",
       "          base: '/static/base',\n",
       "          d3: '//cdnjs.cloudflare.com/ajax/libs/d3/3.4.13/d3',\n",
       "          plotly: 'https://cdn.plot.ly/plotly-1.5.1.min.js?noext',\n",
       "          jquery: '//ajax.googleapis.com/ajax/libs/jquery/2.0.0/jquery.min'\n",
       "        },\n",
       "        map: {\n",
       "          '*': {\n",
       "            datalab: 'nbextensions/gcpdatalab'\n",
       "          }\n",
       "        },\n",
       "        shim: {\n",
       "          plotly: {\n",
       "            deps: ['d3', 'jquery'],\n",
       "            exports: 'plotly'\n",
       "          }\n",
       "        }\n",
       "      });\n",
       "\n",
       "      require(['datalab/charting', 'datalab/element!14_152436780635', 'base/js/events',\n",
       "          'datalab/style!/nbextensions/gcpdatalab/charting.css'],\n",
       "        function(charts, dom, events) {\n",
       "          charts.render('gcharts', dom, events, 'table', [], {\"rows\": [{\"c\": [{\"v\": 1144613}]}, {\"c\": [{\"v\": 1195355}]}, {\"c\": [{\"v\": 0}]}], \"cols\": [{\"label\": \"gen\", \"id\": \"gen\", \"type\": \"number\"}]},\n",
       "            {\n",
       "              pageSize: 25,\n",
       "              cssClassNames:  {\n",
       "                tableRow: 'gchart-table-row',\n",
       "                headerRow: 'gchart-table-headerrow',\n",
       "                oddTableRow: 'gchart-table-oddrow',\n",
       "                selectedTableRow: 'gchart-table-selectedrow',\n",
       "                hoverTableRow: 'gchart-table-hoverrow',\n",
       "                tableCell: 'gchart-table-cell',\n",
       "                headerCell: 'gchart-table-headercell',\n",
       "                rowNumberCell: 'gchart-table-rownumcell'\n",
       "              }\n",
       "            },\n",
       "            {source_index: 1, fields: 'gen'},\n",
       "            0,\n",
       "            3);\n",
       "        }\n",
       "      );\n",
       "    </script>\n",
       "  "
      ],
      "text/plain": [
       "QueryResultsTable job_AfNz0MGXT8OgGZx6EY3RMrmDKeOA"
      ]
     },
     "execution_count": 52,
     "metadata": {},
     "output_type": "execute_result"
    }
   ],
   "source": [
    "gender_describe.execute().result()"
   ]
  },
  {
   "cell_type": "code",
   "execution_count": 53,
   "metadata": {
    "collapsed": false
   },
   "outputs": [],
   "source": [
    "%%bq query --name gender_describe\n",
    "SELECT COUNT(members_gender) AS gen FROM `w207_kkbox_bq_data.members_filtered_100k` AS members GROUP BY members_gender"
   ]
  },
  {
   "cell_type": "code",
   "execution_count": 54,
   "metadata": {
    "collapsed": false
   },
   "outputs": [
    {
     "data": {
      "text/html": [
       "\n",
       "    <div class=\"bqtv\" id=\"15_152436780843\"><table><tr><th>gen</th></tr><tr><td>24507</td></tr><tr><td>21630</td></tr><tr><td>0</td></tr></table></div>\n",
       "    <br />(rows: 3, time: 0.1s, cached, job: job__0rEg7lP0hion9yO77VylbSMR6ij)<br />\n",
       "    <script src=\"/static/components/requirejs/require.js\"></script>\n",
       "    <script>\n",
       "      require.config({\n",
       "        paths: {\n",
       "          base: '/static/base',\n",
       "          d3: '//cdnjs.cloudflare.com/ajax/libs/d3/3.4.13/d3',\n",
       "          plotly: 'https://cdn.plot.ly/plotly-1.5.1.min.js?noext',\n",
       "          jquery: '//ajax.googleapis.com/ajax/libs/jquery/2.0.0/jquery.min'\n",
       "        },\n",
       "        map: {\n",
       "          '*': {\n",
       "            datalab: 'nbextensions/gcpdatalab'\n",
       "          }\n",
       "        },\n",
       "        shim: {\n",
       "          plotly: {\n",
       "            deps: ['d3', 'jquery'],\n",
       "            exports: 'plotly'\n",
       "          }\n",
       "        }\n",
       "      });\n",
       "\n",
       "      require(['datalab/charting', 'datalab/element!15_152436780843', 'base/js/events',\n",
       "          'datalab/style!/nbextensions/gcpdatalab/charting.css'],\n",
       "        function(charts, dom, events) {\n",
       "          charts.render('gcharts', dom, events, 'table', [], {\"rows\": [{\"c\": [{\"v\": 24507}]}, {\"c\": [{\"v\": 21630}]}, {\"c\": [{\"v\": 0}]}], \"cols\": [{\"label\": \"gen\", \"id\": \"gen\", \"type\": \"number\"}]},\n",
       "            {\n",
       "              pageSize: 25,\n",
       "              cssClassNames:  {\n",
       "                tableRow: 'gchart-table-row',\n",
       "                headerRow: 'gchart-table-headerrow',\n",
       "                oddTableRow: 'gchart-table-oddrow',\n",
       "                selectedTableRow: 'gchart-table-selectedrow',\n",
       "                hoverTableRow: 'gchart-table-hoverrow',\n",
       "                tableCell: 'gchart-table-cell',\n",
       "                headerCell: 'gchart-table-headercell',\n",
       "                rowNumberCell: 'gchart-table-rownumcell'\n",
       "              }\n",
       "            },\n",
       "            {source_index: 2, fields: 'gen'},\n",
       "            0,\n",
       "            3);\n",
       "        }\n",
       "      );\n",
       "    </script>\n",
       "  "
      ],
      "text/plain": [
       "QueryResultsTable job__0rEg7lP0hion9yO77VylbSMR6ij"
      ]
     },
     "execution_count": 54,
     "metadata": {},
     "output_type": "execute_result"
    }
   ],
   "source": [
    "gender_describe.execute().result()"
   ]
  },
  {
   "cell_type": "markdown",
   "metadata": {},
   "source": [
    "From the printout above, we can see that there is similarity amongst the gender distribution between the whole and filtered dataset, male has a slightly higher population than female. \n",
    "\n",
    "Below we will now printout the description of the tables for comparison. "
   ]
  },
  {
   "cell_type": "code",
   "execution_count": 55,
   "metadata": {
    "collapsed": false
   },
   "outputs": [],
   "source": [
    "%%bq query --name describe_members\n",
    "SELECT COUNT(DISTINCT(city)) AS city_count, COUNT(DISTINCT(registered_via)) AS registration_type, AVG(bd) AS average_bd\n",
    "FROM `w207_kkbox_bq_data.members`"
   ]
  },
  {
   "cell_type": "code",
   "execution_count": 56,
   "metadata": {
    "collapsed": false
   },
   "outputs": [
    {
     "data": {
      "text/html": [
       "\n",
       "    <div class=\"bqtv\" id=\"16_152436781060\"><table><tr><th>city_count</th><th>registration_type</th><th>average_bd</th></tr><tr><td>21</td><td>18</td><td>9.795794295951625</td></tr></table></div>\n",
       "    <br />(rows: 1, time: 0.2s, cached, job: job_s_s-BUim86KEeQsaPWK8aI7ePUsl)<br />\n",
       "    <script src=\"/static/components/requirejs/require.js\"></script>\n",
       "    <script>\n",
       "      require.config({\n",
       "        paths: {\n",
       "          base: '/static/base',\n",
       "          d3: '//cdnjs.cloudflare.com/ajax/libs/d3/3.4.13/d3',\n",
       "          plotly: 'https://cdn.plot.ly/plotly-1.5.1.min.js?noext',\n",
       "          jquery: '//ajax.googleapis.com/ajax/libs/jquery/2.0.0/jquery.min'\n",
       "        },\n",
       "        map: {\n",
       "          '*': {\n",
       "            datalab: 'nbextensions/gcpdatalab'\n",
       "          }\n",
       "        },\n",
       "        shim: {\n",
       "          plotly: {\n",
       "            deps: ['d3', 'jquery'],\n",
       "            exports: 'plotly'\n",
       "          }\n",
       "        }\n",
       "      });\n",
       "\n",
       "      require(['datalab/charting', 'datalab/element!16_152436781060', 'base/js/events',\n",
       "          'datalab/style!/nbextensions/gcpdatalab/charting.css'],\n",
       "        function(charts, dom, events) {\n",
       "          charts.render('gcharts', dom, events, 'table', [], {\"rows\": [{\"c\": [{\"v\": 21}, {\"v\": 18}, {\"v\": 9.795794295951625}]}], \"cols\": [{\"label\": \"city_count\", \"id\": \"city_count\", \"type\": \"number\"}, {\"label\": \"registration_type\", \"id\": \"registration_type\", \"type\": \"number\"}, {\"label\": \"average_bd\", \"id\": \"average_bd\", \"type\": \"number\"}]},\n",
       "            {\n",
       "              pageSize: 25,\n",
       "              cssClassNames:  {\n",
       "                tableRow: 'gchart-table-row',\n",
       "                headerRow: 'gchart-table-headerrow',\n",
       "                oddTableRow: 'gchart-table-oddrow',\n",
       "                selectedTableRow: 'gchart-table-selectedrow',\n",
       "                hoverTableRow: 'gchart-table-hoverrow',\n",
       "                tableCell: 'gchart-table-cell',\n",
       "                headerCell: 'gchart-table-headercell',\n",
       "                rowNumberCell: 'gchart-table-rownumcell'\n",
       "              }\n",
       "            },\n",
       "            {source_index: 3, fields: 'city_count,registration_type,average_bd'},\n",
       "            0,\n",
       "            1);\n",
       "        }\n",
       "      );\n",
       "    </script>\n",
       "  "
      ],
      "text/plain": [
       "QueryResultsTable job_s_s-BUim86KEeQsaPWK8aI7ePUsl"
      ]
     },
     "execution_count": 56,
     "metadata": {},
     "output_type": "execute_result"
    }
   ],
   "source": [
    "describe_members.execute().result()"
   ]
  },
  {
   "cell_type": "code",
   "execution_count": 57,
   "metadata": {
    "collapsed": true
   },
   "outputs": [],
   "source": [
    "%%bq query --name describe_members\n",
    "SELECT COUNT(DISTINCT(members_city)) AS city_count, COUNT(DISTINCT(members_registered_via)) AS registration_type, AVG(members_bd) AS average_bd\n",
    "FROM `w207_kkbox_bq_data.members_filtered_100k`"
   ]
  },
  {
   "cell_type": "code",
   "execution_count": 58,
   "metadata": {
    "collapsed": false
   },
   "outputs": [
    {
     "data": {
      "text/html": [
       "\n",
       "    <div class=\"bqtv\" id=\"17_152436781276\"><table><tr><th>city_count</th><th>registration_type</th><th>average_bd</th></tr><tr><td>21</td><td>5</td><td>14.915069350530343</td></tr></table></div>\n",
       "    <br />(rows: 1, time: 0.2s, cached, job: job_RCIg6slHgd8nt-De7OuUfeub23gU)<br />\n",
       "    <script src=\"/static/components/requirejs/require.js\"></script>\n",
       "    <script>\n",
       "      require.config({\n",
       "        paths: {\n",
       "          base: '/static/base',\n",
       "          d3: '//cdnjs.cloudflare.com/ajax/libs/d3/3.4.13/d3',\n",
       "          plotly: 'https://cdn.plot.ly/plotly-1.5.1.min.js?noext',\n",
       "          jquery: '//ajax.googleapis.com/ajax/libs/jquery/2.0.0/jquery.min'\n",
       "        },\n",
       "        map: {\n",
       "          '*': {\n",
       "            datalab: 'nbextensions/gcpdatalab'\n",
       "          }\n",
       "        },\n",
       "        shim: {\n",
       "          plotly: {\n",
       "            deps: ['d3', 'jquery'],\n",
       "            exports: 'plotly'\n",
       "          }\n",
       "        }\n",
       "      });\n",
       "\n",
       "      require(['datalab/charting', 'datalab/element!17_152436781276', 'base/js/events',\n",
       "          'datalab/style!/nbextensions/gcpdatalab/charting.css'],\n",
       "        function(charts, dom, events) {\n",
       "          charts.render('gcharts', dom, events, 'table', [], {\"rows\": [{\"c\": [{\"v\": 21}, {\"v\": 5}, {\"v\": 14.915069350530343}]}], \"cols\": [{\"label\": \"city_count\", \"id\": \"city_count\", \"type\": \"number\"}, {\"label\": \"registration_type\", \"id\": \"registration_type\", \"type\": \"number\"}, {\"label\": \"average_bd\", \"id\": \"average_bd\", \"type\": \"number\"}]},\n",
       "            {\n",
       "              pageSize: 25,\n",
       "              cssClassNames:  {\n",
       "                tableRow: 'gchart-table-row',\n",
       "                headerRow: 'gchart-table-headerrow',\n",
       "                oddTableRow: 'gchart-table-oddrow',\n",
       "                selectedTableRow: 'gchart-table-selectedrow',\n",
       "                hoverTableRow: 'gchart-table-hoverrow',\n",
       "                tableCell: 'gchart-table-cell',\n",
       "                headerCell: 'gchart-table-headercell',\n",
       "                rowNumberCell: 'gchart-table-rownumcell'\n",
       "              }\n",
       "            },\n",
       "            {source_index: 4, fields: 'city_count,registration_type,average_bd'},\n",
       "            0,\n",
       "            1);\n",
       "        }\n",
       "      );\n",
       "    </script>\n",
       "  "
      ],
      "text/plain": [
       "QueryResultsTable job_RCIg6slHgd8nt-De7OuUfeub23gU"
      ]
     },
     "execution_count": 58,
     "metadata": {},
     "output_type": "execute_result"
    }
   ],
   "source": [
    "describe_members.execute().result()"
   ]
  },
  {
   "cell_type": "markdown",
   "metadata": {},
   "source": [
    "We can see here that the filtered dataset doesn't capture all of the registration types (only 5 of the 18 total). Presumably there are a select number of very popular registration types, and several lesser used, which is why our data subset only contains a portion of the total registration types. Average birthday is higher (presumably younger if birthday is computed as days after a particular date) in our filtered dataset. "
   ]
  },
  {
   "cell_type": "code",
   "execution_count": 59,
   "metadata": {
    "collapsed": true
   },
   "outputs": [],
   "source": [
    "%%bq query --name describe_transactions\n",
    "SELECT COUNT(DISTINCT(payment_method_id)) as payment_method, COUNT(DISTINCT(plan_list_price)) as num_plans, SUM(is_auto_renew) / COUNT(is_auto_renew) as prop_auto_renew, \n",
    "AVG(actual_amount_paid) AS plan_revenue, SUM(is_cancel) / COUNT(is_cancel) AS prop_cancel\n",
    "FROM `w207_kkbox_bq_data.transactions`"
   ]
  },
  {
   "cell_type": "code",
   "execution_count": 60,
   "metadata": {
    "collapsed": false
   },
   "outputs": [
    {
     "data": {
      "text/html": [
       "\n",
       "    <div class=\"bqtv\" id=\"18_152436781483\"><table><tr><th>payment_method</th><th>num_plans</th><th>prop_auto_renew</th><th>plan_revenue</th><th>prop_cancel</th></tr><tr><td>40</td><td>51</td><td>0.8519661406812573</td><td>141.98732048354586</td><td>0.03976522648819046</td></tr></table></div>\n",
       "    <br />(rows: 1, time: 0.1s, cached, job: job_w7nJR7nlHvuW0mk-jUsSP5EW_pu6)<br />\n",
       "    <script src=\"/static/components/requirejs/require.js\"></script>\n",
       "    <script>\n",
       "      require.config({\n",
       "        paths: {\n",
       "          base: '/static/base',\n",
       "          d3: '//cdnjs.cloudflare.com/ajax/libs/d3/3.4.13/d3',\n",
       "          plotly: 'https://cdn.plot.ly/plotly-1.5.1.min.js?noext',\n",
       "          jquery: '//ajax.googleapis.com/ajax/libs/jquery/2.0.0/jquery.min'\n",
       "        },\n",
       "        map: {\n",
       "          '*': {\n",
       "            datalab: 'nbextensions/gcpdatalab'\n",
       "          }\n",
       "        },\n",
       "        shim: {\n",
       "          plotly: {\n",
       "            deps: ['d3', 'jquery'],\n",
       "            exports: 'plotly'\n",
       "          }\n",
       "        }\n",
       "      });\n",
       "\n",
       "      require(['datalab/charting', 'datalab/element!18_152436781483', 'base/js/events',\n",
       "          'datalab/style!/nbextensions/gcpdatalab/charting.css'],\n",
       "        function(charts, dom, events) {\n",
       "          charts.render('gcharts', dom, events, 'table', [], {\"rows\": [{\"c\": [{\"v\": 40}, {\"v\": 51}, {\"v\": 0.8519661406812573}, {\"v\": 141.98732048354586}, {\"v\": 0.03976522648819046}]}], \"cols\": [{\"label\": \"payment_method\", \"id\": \"payment_method\", \"type\": \"number\"}, {\"label\": \"num_plans\", \"id\": \"num_plans\", \"type\": \"number\"}, {\"label\": \"prop_auto_renew\", \"id\": \"prop_auto_renew\", \"type\": \"number\"}, {\"label\": \"plan_revenue\", \"id\": \"plan_revenue\", \"type\": \"number\"}, {\"label\": \"prop_cancel\", \"id\": \"prop_cancel\", \"type\": \"number\"}]},\n",
       "            {\n",
       "              pageSize: 25,\n",
       "              cssClassNames:  {\n",
       "                tableRow: 'gchart-table-row',\n",
       "                headerRow: 'gchart-table-headerrow',\n",
       "                oddTableRow: 'gchart-table-oddrow',\n",
       "                selectedTableRow: 'gchart-table-selectedrow',\n",
       "                hoverTableRow: 'gchart-table-hoverrow',\n",
       "                tableCell: 'gchart-table-cell',\n",
       "                headerCell: 'gchart-table-headercell',\n",
       "                rowNumberCell: 'gchart-table-rownumcell'\n",
       "              }\n",
       "            },\n",
       "            {source_index: 5, fields: 'payment_method,num_plans,prop_auto_renew,plan_revenue,prop_cancel'},\n",
       "            0,\n",
       "            1);\n",
       "        }\n",
       "      );\n",
       "    </script>\n",
       "  "
      ],
      "text/plain": [
       "QueryResultsTable job_w7nJR7nlHvuW0mk-jUsSP5EW_pu6"
      ]
     },
     "execution_count": 60,
     "metadata": {},
     "output_type": "execute_result"
    }
   ],
   "source": [
    "describe_transactions.execute().result()"
   ]
  },
  {
   "cell_type": "code",
   "execution_count": 61,
   "metadata": {
    "collapsed": true
   },
   "outputs": [],
   "source": [
    "%%bq query --name describe_transactions\n",
    "SELECT COUNT(DISTINCT(transactions_payment_method_id)) as payment_method, COUNT(DISTINCT(transactions_plan_list_price)) as num_plans, SUM(transactions_is_auto_renew) / COUNT(transactions_is_auto_renew) as prop_auto_renew, \n",
    "AVG(transactions_actual_amount_paid) AS plan_revenue, SUM(transactions_is_cancel) / COUNT(transactions_is_cancel) AS prop_cancel\n",
    "FROM `w207_kkbox_bq_data.transactions_filtered_100k`"
   ]
  },
  {
   "cell_type": "code",
   "execution_count": 62,
   "metadata": {
    "collapsed": false
   },
   "outputs": [
    {
     "data": {
      "text/html": [
       "\n",
       "    <div class=\"bqtv\" id=\"19_152436781700\"><table><tr><th>payment_method</th><th>num_plans</th><th>prop_auto_renew</th><th>plan_revenue</th><th>prop_cancel</th></tr><tr><td>37</td><td>42</td><td>0.8315028382832431</td><td>145.68530483745585</td><td>0.031064849396989492</td></tr></table></div>\n",
       "    <br />(rows: 1, time: 0.1s, cached, job: job_HNnfHsxnSm7qJdbkItU1IJPU4-ej)<br />\n",
       "    <script src=\"/static/components/requirejs/require.js\"></script>\n",
       "    <script>\n",
       "      require.config({\n",
       "        paths: {\n",
       "          base: '/static/base',\n",
       "          d3: '//cdnjs.cloudflare.com/ajax/libs/d3/3.4.13/d3',\n",
       "          plotly: 'https://cdn.plot.ly/plotly-1.5.1.min.js?noext',\n",
       "          jquery: '//ajax.googleapis.com/ajax/libs/jquery/2.0.0/jquery.min'\n",
       "        },\n",
       "        map: {\n",
       "          '*': {\n",
       "            datalab: 'nbextensions/gcpdatalab'\n",
       "          }\n",
       "        },\n",
       "        shim: {\n",
       "          plotly: {\n",
       "            deps: ['d3', 'jquery'],\n",
       "            exports: 'plotly'\n",
       "          }\n",
       "        }\n",
       "      });\n",
       "\n",
       "      require(['datalab/charting', 'datalab/element!19_152436781700', 'base/js/events',\n",
       "          'datalab/style!/nbextensions/gcpdatalab/charting.css'],\n",
       "        function(charts, dom, events) {\n",
       "          charts.render('gcharts', dom, events, 'table', [], {\"rows\": [{\"c\": [{\"v\": 37}, {\"v\": 42}, {\"v\": 0.8315028382832431}, {\"v\": 145.68530483745585}, {\"v\": 0.031064849396989492}]}], \"cols\": [{\"label\": \"payment_method\", \"id\": \"payment_method\", \"type\": \"number\"}, {\"label\": \"num_plans\", \"id\": \"num_plans\", \"type\": \"number\"}, {\"label\": \"prop_auto_renew\", \"id\": \"prop_auto_renew\", \"type\": \"number\"}, {\"label\": \"plan_revenue\", \"id\": \"plan_revenue\", \"type\": \"number\"}, {\"label\": \"prop_cancel\", \"id\": \"prop_cancel\", \"type\": \"number\"}]},\n",
       "            {\n",
       "              pageSize: 25,\n",
       "              cssClassNames:  {\n",
       "                tableRow: 'gchart-table-row',\n",
       "                headerRow: 'gchart-table-headerrow',\n",
       "                oddTableRow: 'gchart-table-oddrow',\n",
       "                selectedTableRow: 'gchart-table-selectedrow',\n",
       "                hoverTableRow: 'gchart-table-hoverrow',\n",
       "                tableCell: 'gchart-table-cell',\n",
       "                headerCell: 'gchart-table-headercell',\n",
       "                rowNumberCell: 'gchart-table-rownumcell'\n",
       "              }\n",
       "            },\n",
       "            {source_index: 6, fields: 'payment_method,num_plans,prop_auto_renew,plan_revenue,prop_cancel'},\n",
       "            0,\n",
       "            1);\n",
       "        }\n",
       "      );\n",
       "    </script>\n",
       "  "
      ],
      "text/plain": [
       "QueryResultsTable job_HNnfHsxnSm7qJdbkItU1IJPU4-ej"
      ]
     },
     "execution_count": 62,
     "metadata": {},
     "output_type": "execute_result"
    }
   ],
   "source": [
    "describe_transactions.execute().result()"
   ]
  },
  {
   "cell_type": "markdown",
   "metadata": {},
   "source": [
    "Comparing the filtered and total datasets, we can see that both payment method and number of plans decreases slightly in the filtered dataset, but not too much. One key highlight here is that moving to the full dataset will require fitting on the larger dataset, because there is data objects that have not been seen by the smaller model. The proportion of auto renew members is very similar across both datasets as is the revenue from the plan (average plan price). We can see the slightly lower members cancel in the filtered dataset when compared to the total dataset, however both datasets have a low proportion of cancel (and from before, cancel is lower than is_churn which is an interesting observation). Additionally, as the filtered dataset contains 50% churn, having such a low (and even lower than the total dataset) churn statistic is surprising. "
   ]
  },
  {
   "cell_type": "code",
   "execution_count": 63,
   "metadata": {
    "collapsed": true
   },
   "outputs": [],
   "source": [
    "%%bq query --name describe_user_logs\n",
    "SELECT SUM(total_secs) AS listening_time, SUM(num_unq) AS number_unique, AVG(date) AS average_date, SUM(num_100) AS sum_full_songs, SUM(num_25) AS sum_25per_songs\n",
    "FROM `w207_kkbox_bq_data.user_logs`"
   ]
  },
  {
   "cell_type": "code",
   "execution_count": 64,
   "metadata": {
    "collapsed": false
   },
   "outputs": [
    {
     "data": {
      "text/html": [
       "\n",
       "    <div class=\"bqtv\" id=\"20_152436781906\"><table><tr><th>listening_time</th><th>number_unique</th><th>average_date</th><th>sum_full_songs</th><th>sum_25per_songs</th></tr><tr><td>-5.665342138557264e+20</td><td>11798546903</td><td>20157392.77279009</td><td>12045813613</td><td>2553501878</td></tr></table></div>\n",
       "    <br />(rows: 1, time: 0.1s, cached, job: job_SJWC3sRNxUqMaP_eGiz7LB-SRhZk)<br />\n",
       "    <script src=\"/static/components/requirejs/require.js\"></script>\n",
       "    <script>\n",
       "      require.config({\n",
       "        paths: {\n",
       "          base: '/static/base',\n",
       "          d3: '//cdnjs.cloudflare.com/ajax/libs/d3/3.4.13/d3',\n",
       "          plotly: 'https://cdn.plot.ly/plotly-1.5.1.min.js?noext',\n",
       "          jquery: '//ajax.googleapis.com/ajax/libs/jquery/2.0.0/jquery.min'\n",
       "        },\n",
       "        map: {\n",
       "          '*': {\n",
       "            datalab: 'nbextensions/gcpdatalab'\n",
       "          }\n",
       "        },\n",
       "        shim: {\n",
       "          plotly: {\n",
       "            deps: ['d3', 'jquery'],\n",
       "            exports: 'plotly'\n",
       "          }\n",
       "        }\n",
       "      });\n",
       "\n",
       "      require(['datalab/charting', 'datalab/element!20_152436781906', 'base/js/events',\n",
       "          'datalab/style!/nbextensions/gcpdatalab/charting.css'],\n",
       "        function(charts, dom, events) {\n",
       "          charts.render('gcharts', dom, events, 'table', [], {\"rows\": [{\"c\": [{\"v\": -5.665342138557264e+20}, {\"v\": 11798546903}, {\"v\": 20157392.77279009}, {\"v\": 12045813613}, {\"v\": 2553501878}]}], \"cols\": [{\"label\": \"listening_time\", \"id\": \"listening_time\", \"type\": \"number\"}, {\"label\": \"number_unique\", \"id\": \"number_unique\", \"type\": \"number\"}, {\"label\": \"average_date\", \"id\": \"average_date\", \"type\": \"number\"}, {\"label\": \"sum_full_songs\", \"id\": \"sum_full_songs\", \"type\": \"number\"}, {\"label\": \"sum_25per_songs\", \"id\": \"sum_25per_songs\", \"type\": \"number\"}]},\n",
       "            {\n",
       "              pageSize: 25,\n",
       "              cssClassNames:  {\n",
       "                tableRow: 'gchart-table-row',\n",
       "                headerRow: 'gchart-table-headerrow',\n",
       "                oddTableRow: 'gchart-table-oddrow',\n",
       "                selectedTableRow: 'gchart-table-selectedrow',\n",
       "                hoverTableRow: 'gchart-table-hoverrow',\n",
       "                tableCell: 'gchart-table-cell',\n",
       "                headerCell: 'gchart-table-headercell',\n",
       "                rowNumberCell: 'gchart-table-rownumcell'\n",
       "              }\n",
       "            },\n",
       "            {source_index: 7, fields: 'listening_time,number_unique,average_date,sum_full_songs,sum_25per_songs'},\n",
       "            0,\n",
       "            1);\n",
       "        }\n",
       "      );\n",
       "    </script>\n",
       "  "
      ],
      "text/plain": [
       "QueryResultsTable job_SJWC3sRNxUqMaP_eGiz7LB-SRhZk"
      ]
     },
     "execution_count": 64,
     "metadata": {},
     "output_type": "execute_result"
    }
   ],
   "source": [
    "describe_user_logs.execute().result()"
   ]
  },
  {
   "cell_type": "code",
   "execution_count": 65,
   "metadata": {
    "collapsed": true
   },
   "outputs": [],
   "source": [
    "%%bq query --name describe_user_logs\n",
    "SELECT SUM(user_logs_total_secs) AS listening_time, SUM(user_logs_num_unq) AS number_unique, AVG(user_logs_date) AS average_date, SUM(user_logs_num_100) AS sum_full_songs, SUM(user_logs_num_25) AS sum_25per_songs\n",
    "FROM `w207_kkbox_bq_data.user_logs_filtered_100k`"
   ]
  },
  {
   "cell_type": "code",
   "execution_count": 66,
   "metadata": {
    "collapsed": false
   },
   "outputs": [
    {
     "data": {
      "text/html": [
       "\n",
       "    <div class=\"bqtv\" id=\"21_152436782112\"><table><tr><th>listening_time</th><th>number_unique</th><th>average_date</th><th>sum_full_songs</th><th>sum_25per_songs</th></tr><tr><td>-3.1202667405739975e+19</td><td>711055859</td><td>20158095.16186604</td><td>719873498</td><td>155565964</td></tr></table></div>\n",
       "    <br />(rows: 1, time: 0.1s, cached, job: job_6Zclmg8gA3QsOm_qb04JlROqwHV9)<br />\n",
       "    <script src=\"/static/components/requirejs/require.js\"></script>\n",
       "    <script>\n",
       "      require.config({\n",
       "        paths: {\n",
       "          base: '/static/base',\n",
       "          d3: '//cdnjs.cloudflare.com/ajax/libs/d3/3.4.13/d3',\n",
       "          plotly: 'https://cdn.plot.ly/plotly-1.5.1.min.js?noext',\n",
       "          jquery: '//ajax.googleapis.com/ajax/libs/jquery/2.0.0/jquery.min'\n",
       "        },\n",
       "        map: {\n",
       "          '*': {\n",
       "            datalab: 'nbextensions/gcpdatalab'\n",
       "          }\n",
       "        },\n",
       "        shim: {\n",
       "          plotly: {\n",
       "            deps: ['d3', 'jquery'],\n",
       "            exports: 'plotly'\n",
       "          }\n",
       "        }\n",
       "      });\n",
       "\n",
       "      require(['datalab/charting', 'datalab/element!21_152436782112', 'base/js/events',\n",
       "          'datalab/style!/nbextensions/gcpdatalab/charting.css'],\n",
       "        function(charts, dom, events) {\n",
       "          charts.render('gcharts', dom, events, 'table', [], {\"rows\": [{\"c\": [{\"v\": -3.1202667405739975e+19}, {\"v\": 711055859}, {\"v\": 20158095.16186604}, {\"v\": 719873498}, {\"v\": 155565964}]}], \"cols\": [{\"label\": \"listening_time\", \"id\": \"listening_time\", \"type\": \"number\"}, {\"label\": \"number_unique\", \"id\": \"number_unique\", \"type\": \"number\"}, {\"label\": \"average_date\", \"id\": \"average_date\", \"type\": \"number\"}, {\"label\": \"sum_full_songs\", \"id\": \"sum_full_songs\", \"type\": \"number\"}, {\"label\": \"sum_25per_songs\", \"id\": \"sum_25per_songs\", \"type\": \"number\"}]},\n",
       "            {\n",
       "              pageSize: 25,\n",
       "              cssClassNames:  {\n",
       "                tableRow: 'gchart-table-row',\n",
       "                headerRow: 'gchart-table-headerrow',\n",
       "                oddTableRow: 'gchart-table-oddrow',\n",
       "                selectedTableRow: 'gchart-table-selectedrow',\n",
       "                hoverTableRow: 'gchart-table-hoverrow',\n",
       "                tableCell: 'gchart-table-cell',\n",
       "                headerCell: 'gchart-table-headercell',\n",
       "                rowNumberCell: 'gchart-table-rownumcell'\n",
       "              }\n",
       "            },\n",
       "            {source_index: 8, fields: 'listening_time,number_unique,average_date,sum_full_songs,sum_25per_songs'},\n",
       "            0,\n",
       "            1);\n",
       "        }\n",
       "      );\n",
       "    </script>\n",
       "  "
      ],
      "text/plain": [
       "QueryResultsTable job_6Zclmg8gA3QsOm_qb04JlROqwHV9"
      ]
     },
     "execution_count": 66,
     "metadata": {},
     "output_type": "execute_result"
    }
   ],
   "source": [
    "describe_user_logs.execute().result()"
   ]
  },
  {
   "cell_type": "markdown",
   "metadata": {},
   "source": [
    "Comparing the two datasets, we can see that both have an average listening time of a negative value (which intuitiviely doesn't make sens). It will be important to better understand how this data is collected to properly quality check the column and values. Number of unique is higher in the entire dataset, which makes sense as there is more data. Average date is in the form YYYYMMDD so the average date for user logs is in 2015 (averageing a date as an integer produces an incorrect date - datalab doesn't handle dates the same way as big query so further analysis in this notebook was not carried out). The sum of full songs and 25% songs is also higher in the full dataset which again makes sense. It is interesting to see that the proportion to full_songs/25per_songs is approximately the same (4.71 in the full vs 4.63 in the filtered). "
   ]
  },
  {
   "cell_type": "markdown",
   "metadata": {},
   "source": [
    "We can see that there are some differences and limitations to the filtered dataset, which is to be expected. Some columns that map to a element associated with kkbox (payment method, number of plans, etc) have been removed in the filtered dataset. Likely the missing values are lesser used methods that aren't caught in the filtered dataset, however it is also important to remember that the filtered dataset contains approximately 10% of the total data. \n",
    "\n",
    "Overall however, the two datasets are fairly similar, with one key difference related to the proportion of churn. Churn was artificially inflated in the filtered dataset to 50% (from 6%) to help improve model training. \n",
    "\n",
    "Now that some elementary EDA has been performed comparing the total and filtered datsets, we will move towards utilizing the filtered dataset to develop models in order to predict churn. Future work in this space will include utilizing the full dataset most likely in a distributed/cloud computing environment. It is also important to note that the total dataset only contains customers whose membership is set to expire in the month of February (approximately 1/12 of the total business dataset). Therefore there is significant expansion possiblities to address when moving the findings/analysis/recommendations from an analysis standpoint to a business insight system. "
   ]
  }
 ],
 "metadata": {
  "kernelspec": {
   "display_name": "Python 3",
   "language": "python",
   "name": "python3"
  },
  "language_info": {
   "codemirror_mode": {
    "name": "ipython",
    "version": 3
   },
   "file_extension": ".py",
   "mimetype": "text/x-python",
   "name": "python",
   "nbconvert_exporter": "python",
   "pygments_lexer": "ipython3",
   "version": "3.5.5"
  }
 },
 "nbformat": 4,
 "nbformat_minor": 2
}

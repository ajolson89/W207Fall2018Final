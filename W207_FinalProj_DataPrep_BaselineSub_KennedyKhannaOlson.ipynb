{
 "cells": [
  {
   "cell_type": "markdown",
   "metadata": {},
   "source": [
    "# W207, Final Project\n",
    "Spring, 2018\n",
    "\n",
    "Team:  Cameron Kennedy, Gaurav Khanna, Aaron Olson\n",
    "\n",
    "## Data Preparation / Feature Extraction Notebook\n",
    "Python Notebook 1 of 2\n",
    "\n",
    "This notebook loads and pre-processes the data.  The other notebook (2 of 2) runs our ML models."
   ]
  },
  {
   "cell_type": "markdown",
   "metadata": {},
   "source": [
    "# Introduction\n",
    "This analysis seeks to predict user churn in a music sharing service.\n",
    "\n",
    "We will write a more complete description and analysis for submission of our final project."
   ]
  },
  {
   "cell_type": "code",
   "execution_count": 1,
   "metadata": {
    "collapsed": true
   },
   "outputs": [],
   "source": [
    "#Import Required Libraries\n",
    "import pandas as pd\n",
    "import numpy as np\n",
    "import matplotlib.pyplot as plt\n",
    "%matplotlib inline"
   ]
  },
  {
   "cell_type": "code",
   "execution_count": 2,
   "metadata": {
    "collapsed": true
   },
   "outputs": [],
   "source": [
    "#Load the data\n",
    "members = pd.read_csv('members_filtered.csv')\n",
    "transactions = pd.read_csv('transactions_filtered.csv')\n",
    "user_logs = pd.read_csv('user_logs_filtered.csv')\n",
    "labels = pd.read_csv('labels_filtered.csv')\n",
    "\n",
    "#Set indices\n",
    "members.set_index('msno', inplace = True)\n",
    "labels.set_index('msno', inplace = True)\n",
    "\n",
    "#user_logs.head()"
   ]
  },
  {
   "cell_type": "code",
   "execution_count": 3,
   "metadata": {},
   "outputs": [],
   "source": [
    "def pd_to_date(df_col):\n",
    "    df_col = pd.to_datetime(df_col, format = '%Y%m%d')\n",
    "    return df_col\n",
    "\n",
    "#Convert to date\n",
    "user_logs['date'] = pd_to_date(user_logs['date'])\n",
    "#user_logs.head()"
   ]
  },
  {
   "cell_type": "markdown",
   "metadata": {},
   "source": [
    "# User Logs Data: Preparation and Feature Extraction"
   ]
  },
  {
   "cell_type": "code",
   "execution_count": 4,
   "metadata": {
    "collapsed": true
   },
   "outputs": [],
   "source": [
    "#Create our groupby user object \n",
    "user_logs_gb = user_logs.groupby(['msno'], sort=False)"
   ]
  },
  {
   "cell_type": "code",
   "execution_count": 5,
   "metadata": {
    "collapsed": true
   },
   "outputs": [],
   "source": [
    "#This cell is slow\n",
    "\n",
    "#Append max date to every row in main table\n",
    "user_logs['max_date'] = user_logs_gb['date'].transform('max')\n",
    "user_logs['days_before_max_date'] = (user_logs['max_date'] - user_logs['date']).apply(lambda x: x.days)\n",
    "    #The .apply(lambda...  just converts it from datetime to an integer, for easier comparisons later.\n",
    "\n",
    "#Generate user's first date, last date, and tenure\n",
    "#Also, the user_logs_features table will be the primary table to return from the transactions table\n",
    "user_logs_features = (user_logs_gb\n",
    "    .agg({'date':['max', 'min', lambda x: (max(x) - min(x)).days]})  #.days converts to int\n",
    "    .rename(columns={'max': 'max_date', 'min': 'min_date','<lambda>':'listening_tenure'})\n",
    "                      )\n",
    "#Add a 3rd level, used for joining data later\n",
    "user_logs_features = pd.concat([user_logs_features], axis=1, keys=['date_features'])"
   ]
  },
  {
   "cell_type": "code",
   "execution_count": 6,
   "metadata": {},
   "outputs": [
    {
     "data": {
      "text/html": [
       "<div>\n",
       "<style>\n",
       "    .dataframe thead tr:only-child th {\n",
       "        text-align: right;\n",
       "    }\n",
       "\n",
       "    .dataframe thead th {\n",
       "        text-align: left;\n",
       "    }\n",
       "\n",
       "    .dataframe tbody tr th {\n",
       "        vertical-align: top;\n",
       "    }\n",
       "</style>\n",
       "<table border=\"1\" class=\"dataframe\">\n",
       "  <thead>\n",
       "    <tr>\n",
       "      <th></th>\n",
       "      <th colspan=\"3\" halign=\"left\">date_features</th>\n",
       "    </tr>\n",
       "    <tr>\n",
       "      <th></th>\n",
       "      <th colspan=\"3\" halign=\"left\">date</th>\n",
       "    </tr>\n",
       "    <tr>\n",
       "      <th></th>\n",
       "      <th>max_date</th>\n",
       "      <th>min_date</th>\n",
       "      <th>listening_tenure</th>\n",
       "    </tr>\n",
       "    <tr>\n",
       "      <th>msno</th>\n",
       "      <th></th>\n",
       "      <th></th>\n",
       "      <th></th>\n",
       "    </tr>\n",
       "  </thead>\n",
       "  <tbody>\n",
       "    <tr>\n",
       "      <th>AtRE9/xHjNrX8tcuUb/cdBRvUHpwXhZrWY9E9sk1tDk=</th>\n",
       "      <td>2017-02-24</td>\n",
       "      <td>2016-01-25</td>\n",
       "      <td>396</td>\n",
       "    </tr>\n",
       "    <tr>\n",
       "      <th>f3HbYjEEVBVeWcP3FNDCLKJXpuIZPvX0oFyn4XLMN3k=</th>\n",
       "      <td>2017-02-28</td>\n",
       "      <td>2015-01-02</td>\n",
       "      <td>788</td>\n",
       "    </tr>\n",
       "    <tr>\n",
       "      <th>Q7nR6DbodHwUTGPi5Z0yOsdC2cSOhiWIe4cNEVmnJ9I=</th>\n",
       "      <td>2017-02-28</td>\n",
       "      <td>2016-02-07</td>\n",
       "      <td>387</td>\n",
       "    </tr>\n",
       "    <tr>\n",
       "      <th>Qx9cihonlt2hkBa3VHNj+nwX2QelZXpyHnEAIjD199w=</th>\n",
       "      <td>2017-02-24</td>\n",
       "      <td>2015-01-02</td>\n",
       "      <td>784</td>\n",
       "    </tr>\n",
       "    <tr>\n",
       "      <th>mf3zFfyeZLl8zEWhV+GyWQYjt3orfQUCcOIMwBJ60+k=</th>\n",
       "      <td>2017-02-28</td>\n",
       "      <td>2015-12-20</td>\n",
       "      <td>436</td>\n",
       "    </tr>\n",
       "  </tbody>\n",
       "</table>\n",
       "</div>"
      ],
      "text/plain": [
       "                                             date_features             \\\n",
       "                                                      date              \n",
       "                                                  max_date   min_date   \n",
       "msno                                                                    \n",
       "AtRE9/xHjNrX8tcuUb/cdBRvUHpwXhZrWY9E9sk1tDk=    2017-02-24 2016-01-25   \n",
       "f3HbYjEEVBVeWcP3FNDCLKJXpuIZPvX0oFyn4XLMN3k=    2017-02-28 2015-01-02   \n",
       "Q7nR6DbodHwUTGPi5Z0yOsdC2cSOhiWIe4cNEVmnJ9I=    2017-02-28 2016-02-07   \n",
       "Qx9cihonlt2hkBa3VHNj+nwX2QelZXpyHnEAIjD199w=    2017-02-24 2015-01-02   \n",
       "mf3zFfyeZLl8zEWhV+GyWQYjt3orfQUCcOIMwBJ60+k=    2017-02-28 2015-12-20   \n",
       "\n",
       "                                                               \n",
       "                                                               \n",
       "                                             listening_tenure  \n",
       "msno                                                           \n",
       "AtRE9/xHjNrX8tcuUb/cdBRvUHpwXhZrWY9E9sk1tDk=              396  \n",
       "f3HbYjEEVBVeWcP3FNDCLKJXpuIZPvX0oFyn4XLMN3k=              788  \n",
       "Q7nR6DbodHwUTGPi5Z0yOsdC2cSOhiWIe4cNEVmnJ9I=              387  \n",
       "Qx9cihonlt2hkBa3VHNj+nwX2QelZXpyHnEAIjD199w=              784  \n",
       "mf3zFfyeZLl8zEWhV+GyWQYjt3orfQUCcOIMwBJ60+k=              436  "
      ]
     },
     "execution_count": 6,
     "metadata": {},
     "output_type": "execute_result"
    }
   ],
   "source": [
    "user_logs_features.head()"
   ]
  },
  {
   "cell_type": "code",
   "execution_count": 7,
   "metadata": {
    "collapsed": true
   },
   "outputs": [],
   "source": [
    "#Create Features:\n",
    "    # Total X=(seconds, 100, 985, 75, 50, 25, unique), avg per day of X, maybe median per day of X\n",
    "    # Last day, last 7 days, last 30 days, last 90, 180, 365, total (note last day is relative to user)\n",
    "    \n",
    "for num_days in [7, 14, 31, 90, 180, 365, 999]:\n",
    "    #Create groupby object for items with x days\n",
    "    ul_gb_xdays = (user_logs.loc[(user_logs['days_before_max_date'] < num_days)]\n",
    "                   .groupby(['msno'], sort=False))\n",
    "\n",
    "    #Generate sum and mean (and count, once) for all the user logs stats\n",
    "    past_xdays_by_user = (ul_gb_xdays\n",
    "        .agg({'num_unq':['sum', 'mean', 'count'],\n",
    "              'total_secs':['sum', 'mean'],\n",
    "              'num_25':['sum', 'mean'],\n",
    "              'num_50':['sum', 'mean'],\n",
    "              'num_75':['sum', 'mean'],\n",
    "              'num_985':['sum', 'mean'],\n",
    "              'num_100':['sum', 'mean'],\n",
    "             })\n",
    "                      )\n",
    "    #Append level header\n",
    "    past_xdays_by_user = pd.concat([past_xdays_by_user], axis=1, keys=['within_days_' + str(num_days)])\n",
    "\n",
    "    #Join (append) to user_logs_features table\n",
    "    user_logs_features = user_logs_features.join(past_xdays_by_user, how='inner')"
   ]
  },
  {
   "cell_type": "code",
   "execution_count": 8,
   "metadata": {},
   "outputs": [],
   "source": [
    "#Next, let's look at changes in last 7 days vs. last 30 days, and last 30 days vs. last 180 days.\n",
    "\n",
    "#Also, need to think about users with < x days tenure."
   ]
  },
  {
   "cell_type": "code",
   "execution_count": 9,
   "metadata": {},
   "outputs": [
    {
     "name": "stderr",
     "output_type": "stream",
     "text": [
      "C:\\Users\\camke\\Anaconda3\\lib\\site-packages\\pandas\\core\\reshape\\merge.py:551: UserWarning: merging between different levels can give an unintended result (1 levels on the left, 3 on the right)\n",
      "  warnings.warn(msg, UserWarning)\n"
     ]
    }
   ],
   "source": [
    "#Join members and labels files\n",
    "features_all = None\n",
    "features_all = members.join(labels, how='inner')\n",
    "features_all = features_all.join(user_logs_features, how='inner')\n",
    "\n",
    "#Note, the warning is okay, and actually helps us by flattening our column headers."
   ]
  },
  {
   "cell_type": "markdown",
   "metadata": {},
   "source": [
    "# Transaction Data: Preparation and Feature Extraction"
   ]
  },
  {
   "cell_type": "code",
   "execution_count": null,
   "metadata": {
    "collapsed": true
   },
   "outputs": [],
   "source": []
  },
  {
   "cell_type": "markdown",
   "metadata": {},
   "source": [
    "# Final Join of Transactions into Features_All Table"
   ]
  },
  {
   "cell_type": "code",
   "execution_count": null,
   "metadata": {
    "collapsed": true
   },
   "outputs": [],
   "source": [
    "features_all = features_all.join(<GAURAV INSERT YOUR DATAFRAME HERE>, how='inner')"
   ]
  },
  {
   "cell_type": "code",
   "execution_count": 10,
   "metadata": {
    "collapsed": true
   },
   "outputs": [],
   "source": [
    "#Write all features to pkl\n",
    "features_all.to_pickle('features_all.pkl')"
   ]
  }
 ],
 "metadata": {
  "kernelspec": {
   "display_name": "Python 3",
   "language": "python",
   "name": "python3"
  },
  "language_info": {
   "codemirror_mode": {
    "name": "ipython",
    "version": 3
   },
   "file_extension": ".py",
   "mimetype": "text/x-python",
   "name": "python",
   "nbconvert_exporter": "python",
   "pygments_lexer": "ipython3",
   "version": "3.6.2"
  }
 },
 "nbformat": 4,
 "nbformat_minor": 2
}
